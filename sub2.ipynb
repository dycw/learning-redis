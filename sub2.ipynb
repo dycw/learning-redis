{
 "cells": [
  {
   "cell_type": "code",
   "execution_count": 1,
   "id": "bba657ae-7da4-471a-88ec-a1e8e2ca6a3b",
   "metadata": {
    "execution": {
     "iopub.execute_input": "2024-08-13T14:11:57.473411Z",
     "iopub.status.busy": "2024-08-13T14:11:57.473133Z",
     "iopub.status.idle": "2024-08-13T14:11:57.528133Z",
     "shell.execute_reply": "2024-08-13T14:11:57.527815Z",
     "shell.execute_reply.started": "2024-08-13T14:11:57.473384Z"
    }
   },
   "outputs": [
    {
     "data": {
      "text/html": [
       "<pre style=\"white-space:pre;overflow-x:auto;line-height:normal;font-family:Menlo,'DejaVu Sans Mono',consolas,'Courier New',monospace\">Ping successful: <span style=\"color: #00ff00; text-decoration-color: #00ff00; font-style: italic\">True</span>\n",
       "</pre>\n"
      ],
      "text/plain": [
       "Ping successful: \u001b[3;92mTrue\u001b[0m\n"
      ]
     },
     "metadata": {},
     "output_type": "display_data"
    }
   ],
   "source": [
    "from redis.asyncio import Redis\n",
    "\n",
    "client = Redis()\n",
    "print(f\"Ping successful: {await client.ping()}\")\n",
    "await client.aclose()"
   ]
  },
  {
   "cell_type": "code",
   "execution_count": 2,
   "id": "e7fdf9d8-a66a-4ff1-85c2-64ef12fc05a1",
   "metadata": {
    "execution": {
     "iopub.execute_input": "2024-08-13T14:11:57.528942Z",
     "iopub.status.busy": "2024-08-13T14:11:57.528712Z",
     "iopub.status.idle": "2024-08-13T14:11:57.538180Z",
     "shell.execute_reply": "2024-08-13T14:11:57.537910Z",
     "shell.execute_reply.started": "2024-08-13T14:11:57.528926Z"
    }
   },
   "outputs": [
    {
     "data": {
      "text/plain": [
       "<redis.asyncio.client.PubSub at 0x1171365a0>"
      ]
     },
     "execution_count": 2,
     "metadata": {},
     "output_type": "execute_result"
    }
   ],
   "source": [
    "pubsub = client.pubsub()\n",
    "pubsub"
   ]
  },
  {
   "cell_type": "code",
   "execution_count": 3,
   "id": "711cbc31-ebb6-47c8-8437-2a793eece71c",
   "metadata": {
    "execution": {
     "iopub.execute_input": "2024-08-13T14:11:57.538642Z",
     "iopub.status.busy": "2024-08-13T14:11:57.538556Z",
     "iopub.status.idle": "2024-08-13T14:11:57.546969Z",
     "shell.execute_reply": "2024-08-13T14:11:57.546719Z",
     "shell.execute_reply.started": "2024-08-13T14:11:57.538633Z"
    }
   },
   "outputs": [],
   "source": [
    "await pubsub.subscribe(\"news\")"
   ]
  },
  {
   "cell_type": "code",
   "execution_count": null,
   "id": "83b67400-d253-4dfd-b980-2470b0478e28",
   "metadata": {
    "execution": {
     "iopub.execute_input": "2024-08-13T14:11:57.547524Z",
     "iopub.status.busy": "2024-08-13T14:11:57.547442Z"
    }
   },
   "outputs": [
    {
     "data": {
      "text/html": [
       "<pre style=\"white-space:pre;overflow-x:auto;line-height:normal;font-family:Menlo,'DejaVu Sans Mono',consolas,'Courier New',monospace\">Received message: <span style=\"color: #008000; text-decoration-color: #008000\">b'new breaking news'</span>\n",
       "</pre>\n"
      ],
      "text/plain": [
       "Received message: \u001b[32mb'new breaking news'\u001b[0m\n"
      ]
     },
     "metadata": {},
     "output_type": "display_data"
    },
    {
     "data": {
      "text/html": [
       "<pre style=\"white-space:pre;overflow-x:auto;line-height:normal;font-family:Menlo,'DejaVu Sans Mono',consolas,'Courier New',monospace\">In full: <span style=\"font-weight: bold\">{</span><span style=\"color: #008000; text-decoration-color: #008000\">'type'</span>: <span style=\"color: #008000; text-decoration-color: #008000\">'message'</span>, <span style=\"color: #008000; text-decoration-color: #008000\">'pattern'</span>: <span style=\"color: #800080; text-decoration-color: #800080; font-style: italic\">None</span>, <span style=\"color: #008000; text-decoration-color: #008000\">'channel'</span>: <span style=\"color: #008000; text-decoration-color: #008000\">b'news'</span>, <span style=\"color: #008000; text-decoration-color: #008000\">'data'</span>: <span style=\"color: #008000; text-decoration-color: #008000\">b'new breaking news'</span><span style=\"font-weight: bold\">}</span>\n",
       "</pre>\n"
      ],
      "text/plain": [
       "In full: \u001b[1m{\u001b[0m\u001b[32m'type'\u001b[0m: \u001b[32m'message'\u001b[0m, \u001b[32m'pattern'\u001b[0m: \u001b[3;35mNone\u001b[0m, \u001b[32m'channel'\u001b[0m: \u001b[32mb'news'\u001b[0m, \u001b[32m'data'\u001b[0m: \u001b[32mb'new breaking news'\u001b[0m\u001b[1m}\u001b[0m\n"
      ]
     },
     "metadata": {},
     "output_type": "display_data"
    }
   ],
   "source": [
    "try:\n",
    "    async for message in pubsub.listen():\n",
    "        if message[\"type\"] == \"message\":\n",
    "            print(f\"Received message: {message[\"data\"]}\")\n",
    "            print(f\"In full: {message}\")\n",
    "finally:\n",
    "    await pubsub.unsubscribe()\n",
    "    await pubsub.close()\n",
    "    await r.close()"
   ]
  },
  {
   "cell_type": "code",
   "execution_count": null,
   "id": "f2c3de5c-0972-4f99-ac75-466d315fa2b9",
   "metadata": {},
   "outputs": [],
   "source": []
  }
 ],
 "metadata": {
  "kernelspec": {
   "display_name": "Python 3 (ipykernel)",
   "language": "python",
   "name": "python3"
  },
  "language_info": {
   "codemirror_mode": {
    "name": "ipython",
    "version": 3
   },
   "file_extension": ".py",
   "mimetype": "text/x-python",
   "name": "python",
   "nbconvert_exporter": "python",
   "pygments_lexer": "ipython3",
   "version": "3.12.2"
  }
 },
 "nbformat": 4,
 "nbformat_minor": 5
}
