{
 "cells": [
  {
   "cell_type": "code",
   "execution_count": 1,
   "id": "bba657ae-7da4-471a-88ec-a1e8e2ca6a3b",
   "metadata": {
    "execution": {
     "iopub.execute_input": "2024-08-13T14:08:27.659237Z",
     "iopub.status.busy": "2024-08-13T14:08:27.659030Z",
     "iopub.status.idle": "2024-08-13T14:08:27.717388Z",
     "shell.execute_reply": "2024-08-13T14:08:27.717105Z",
     "shell.execute_reply.started": "2024-08-13T14:08:27.659199Z"
    }
   },
   "outputs": [
    {
     "data": {
      "text/html": [
       "<pre style=\"white-space:pre;overflow-x:auto;line-height:normal;font-family:Menlo,'DejaVu Sans Mono',consolas,'Courier New',monospace\">Ping successful: <span style=\"color: #00ff00; text-decoration-color: #00ff00; font-style: italic\">True</span>\n",
       "</pre>\n"
      ],
      "text/plain": [
       "Ping successful: \u001b[3;92mTrue\u001b[0m\n"
      ]
     },
     "metadata": {},
     "output_type": "display_data"
    }
   ],
   "source": [
    "from redis.asyncio import Redis\n",
    "\n",
    "client = Redis()\n",
    "print(f\"Ping successful: {await client.ping()}\")\n",
    "await client.aclose()"
   ]
  },
  {
   "cell_type": "code",
   "execution_count": 2,
   "id": "e7fdf9d8-a66a-4ff1-85c2-64ef12fc05a1",
   "metadata": {
    "execution": {
     "iopub.execute_input": "2024-08-13T14:08:27.718015Z",
     "iopub.status.busy": "2024-08-13T14:08:27.717893Z",
     "iopub.status.idle": "2024-08-13T14:08:27.727257Z",
     "shell.execute_reply": "2024-08-13T14:08:27.726924Z",
     "shell.execute_reply.started": "2024-08-13T14:08:27.718001Z"
    }
   },
   "outputs": [
    {
     "data": {
      "text/plain": [
       "<redis.asyncio.client.PubSub at 0x10973a540>"
      ]
     },
     "execution_count": 2,
     "metadata": {},
     "output_type": "execute_result"
    }
   ],
   "source": [
    "pubsub = client.pubsub()\n",
    "pubsub"
   ]
  },
  {
   "cell_type": "code",
   "execution_count": 3,
   "id": "09aa3a5a-bd5a-4234-8db8-fab330130d7a",
   "metadata": {
    "execution": {
     "iopub.execute_input": "2024-08-13T14:08:27.727854Z",
     "iopub.status.busy": "2024-08-13T14:08:27.727759Z",
     "iopub.status.idle": "2024-08-13T14:08:27.736846Z",
     "shell.execute_reply": "2024-08-13T14:08:27.736577Z",
     "shell.execute_reply.started": "2024-08-13T14:08:27.727844Z"
    }
   },
   "outputs": [],
   "source": [
    "await pubsub.subscribe(\"news\")\n",
    "await pubsub.subscribe(\"broadcast\")"
   ]
  },
  {
   "cell_type": "code",
   "execution_count": null,
   "id": "4e94a30a-dbb8-41cf-89c9-fbf9a391e5ba",
   "metadata": {
    "execution": {
     "iopub.execute_input": "2024-08-13T14:08:27.737260Z",
     "iopub.status.busy": "2024-08-13T14:08:27.737174Z"
    }
   },
   "outputs": [
    {
     "data": {
      "text/html": [
       "<pre style=\"white-space:pre;overflow-x:auto;line-height:normal;font-family:Menlo,'DejaVu Sans Mono',consolas,'Courier New',monospace\">Received message: <span style=\"color: #008000; text-decoration-color: #008000\">b'new breaking news'</span>\n",
       "</pre>\n"
      ],
      "text/plain": [
       "Received message: \u001b[32mb'new breaking news'\u001b[0m\n"
      ]
     },
     "metadata": {},
     "output_type": "display_data"
    }
   ],
   "source": [
    "try:\n",
    "    async for message in pubsub.listen():\n",
    "        if message[\"type\"] == \"message\":\n",
    "            print(f\"Received message: {message[\"data\"]}\")\n",
    "finally:\n",
    "    await pubsub.unsubscribe()\n",
    "    await pubsub.close()\n",
    "    await r.close()"
   ]
  },
  {
   "cell_type": "code",
   "execution_count": null,
   "id": "bedb0ac6-3b24-4c8f-837a-84dd30cd10d7",
   "metadata": {},
   "outputs": [],
   "source": []
  }
 ],
 "metadata": {
  "kernelspec": {
   "display_name": "Python 3 (ipykernel)",
   "language": "python",
   "name": "python3"
  },
  "language_info": {
   "codemirror_mode": {
    "name": "ipython",
    "version": 3
   },
   "file_extension": ".py",
   "mimetype": "text/x-python",
   "name": "python",
   "nbconvert_exporter": "python",
   "pygments_lexer": "ipython3",
   "version": "3.12.2"
  }
 },
 "nbformat": 4,
 "nbformat_minor": 5
}
