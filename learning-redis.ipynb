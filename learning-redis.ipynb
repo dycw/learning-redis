{
 "cells": [
  {
   "cell_type": "code",
   "execution_count": 1,
   "id": "4db283a7-edee-4f09-9d1c-f278318b257d",
   "metadata": {
    "execution": {
     "iopub.execute_input": "2024-08-14T00:31:30.131577Z",
     "iopub.status.busy": "2024-08-14T00:31:30.131357Z",
     "iopub.status.idle": "2024-08-14T00:31:30.196422Z",
     "shell.execute_reply": "2024-08-14T00:31:30.196150Z",
     "shell.execute_reply.started": "2024-08-14T00:31:30.131554Z"
    }
   },
   "outputs": [
    {
     "data": {
      "text/html": [
       "<pre style=\"white-space:pre;overflow-x:auto;line-height:normal;font-family:Menlo,'DejaVu Sans Mono',consolas,'Courier New',monospace\">Ping successful: <span style=\"color: #00ff00; text-decoration-color: #00ff00; font-style: italic\">True</span>\n",
       "</pre>\n"
      ],
      "text/plain": [
       "Ping successful: \u001b[3;92mTrue\u001b[0m\n"
      ]
     },
     "metadata": {},
     "output_type": "display_data"
    }
   ],
   "source": [
    "import redis.asyncio as redis\n",
    "from redis.exceptions import AuthenticationError\n",
    "\n",
    "client = redis.Redis(password=\"derek\")\n",
    "try:\n",
    "    print(f\"Ping successful: {await client.ping()}\")\n",
    "except AuthenticationError:\n",
    "    raise\n",
    "await client.aclose()"
   ]
  },
  {
   "cell_type": "markdown",
   "id": "9aecfc40-291b-44c4-9abd-a8c80585cabb",
   "metadata": {},
   "source": [
    "# strings"
   ]
  },
  {
   "cell_type": "code",
   "execution_count": 2,
   "id": "b7df3563-e832-4098-a66b-66a52cf16dde",
   "metadata": {
    "execution": {
     "iopub.execute_input": "2024-08-14T00:31:30.197124Z",
     "iopub.status.busy": "2024-08-14T00:31:30.196957Z",
     "iopub.status.idle": "2024-08-14T00:31:30.206289Z",
     "shell.execute_reply": "2024-08-14T00:31:30.206019Z",
     "shell.execute_reply.started": "2024-08-14T00:31:30.197114Z"
    }
   },
   "outputs": [
    {
     "data": {
      "text/plain": [
       "True"
      ]
     },
     "execution_count": 2,
     "metadata": {},
     "output_type": "execute_result"
    }
   ],
   "source": [
    "await client.set(\"name\", \"derek\")"
   ]
  },
  {
   "cell_type": "code",
   "execution_count": 3,
   "id": "68e1662c-a917-4b60-9e30-1149ccadf83d",
   "metadata": {
    "execution": {
     "iopub.execute_input": "2024-08-14T00:31:30.206760Z",
     "iopub.status.busy": "2024-08-14T00:31:30.206659Z",
     "iopub.status.idle": "2024-08-14T00:31:30.213340Z",
     "shell.execute_reply": "2024-08-14T00:31:30.213078Z",
     "shell.execute_reply.started": "2024-08-14T00:31:30.206751Z"
    }
   },
   "outputs": [
    {
     "data": {
      "text/plain": [
       "b'derek'"
      ]
     },
     "execution_count": 3,
     "metadata": {},
     "output_type": "execute_result"
    }
   ],
   "source": [
    "await client.get(\"name\")"
   ]
  },
  {
   "cell_type": "code",
   "execution_count": 4,
   "id": "542e082d-37fc-45de-b0d0-9a4f134ac222",
   "metadata": {
    "execution": {
     "iopub.execute_input": "2024-08-14T00:31:30.213920Z",
     "iopub.status.busy": "2024-08-14T00:31:30.213811Z",
     "iopub.status.idle": "2024-08-14T00:31:30.220242Z",
     "shell.execute_reply": "2024-08-14T00:31:30.219986Z",
     "shell.execute_reply.started": "2024-08-14T00:31:30.213907Z"
    }
   },
   "outputs": [
    {
     "data": {
      "text/plain": [
       "True"
      ]
     },
     "execution_count": 4,
     "metadata": {},
     "output_type": "execute_result"
    }
   ],
   "source": [
    "await client.set(\"email\", \"d.wan@icloud.com\")"
   ]
  },
  {
   "cell_type": "code",
   "execution_count": 5,
   "id": "66993e9a-e34d-4e5e-b672-846ca134c80d",
   "metadata": {
    "execution": {
     "iopub.execute_input": "2024-08-14T00:31:30.220851Z",
     "iopub.status.busy": "2024-08-14T00:31:30.220675Z",
     "iopub.status.idle": "2024-08-14T00:31:30.226957Z",
     "shell.execute_reply": "2024-08-14T00:31:30.226728Z",
     "shell.execute_reply.started": "2024-08-14T00:31:30.220842Z"
    }
   },
   "outputs": [
    {
     "data": {
      "text/plain": [
       "b'd.wan'"
      ]
     },
     "execution_count": 5,
     "metadata": {},
     "output_type": "execute_result"
    }
   ],
   "source": [
    "await client.getrange(\"email\", 0, 4)"
   ]
  },
  {
   "cell_type": "code",
   "execution_count": 6,
   "id": "c2f761f5-4a8f-4c8a-8ac0-761dcf0f6211",
   "metadata": {
    "execution": {
     "iopub.execute_input": "2024-08-14T00:31:30.227596Z",
     "iopub.status.busy": "2024-08-14T00:31:30.227433Z",
     "iopub.status.idle": "2024-08-14T00:31:30.233607Z",
     "shell.execute_reply": "2024-08-14T00:31:30.233355Z",
     "shell.execute_reply.started": "2024-08-14T00:31:30.227587Z"
    }
   },
   "outputs": [
    {
     "data": {
      "text/plain": [
       "True"
      ]
     },
     "execution_count": 6,
     "metadata": {},
     "output_type": "execute_result"
    }
   ],
   "source": [
    "await client.mset({\"lang\": \"English\", \"technology\": \"Redis\"})"
   ]
  },
  {
   "cell_type": "code",
   "execution_count": 7,
   "id": "49dbfc19-b288-43f5-995a-83bc45f5e68f",
   "metadata": {
    "execution": {
     "iopub.execute_input": "2024-08-14T00:31:30.234177Z",
     "iopub.status.busy": "2024-08-14T00:31:30.234037Z",
     "iopub.status.idle": "2024-08-14T00:31:30.239946Z",
     "shell.execute_reply": "2024-08-14T00:31:30.239715Z",
     "shell.execute_reply.started": "2024-08-14T00:31:30.234165Z"
    }
   },
   "outputs": [
    {
     "data": {
      "text/plain": [
       "7"
      ]
     },
     "execution_count": 7,
     "metadata": {},
     "output_type": "execute_result"
    }
   ],
   "source": [
    "await client.strlen(\"lang\")"
   ]
  },
  {
   "cell_type": "code",
   "execution_count": 8,
   "id": "8c5b5648-3d08-4a18-b444-fe0c02ed698c",
   "metadata": {
    "execution": {
     "iopub.execute_input": "2024-08-14T00:31:30.240503Z",
     "iopub.status.busy": "2024-08-14T00:31:30.240384Z",
     "iopub.status.idle": "2024-08-14T00:31:30.246801Z",
     "shell.execute_reply": "2024-08-14T00:31:30.246571Z",
     "shell.execute_reply.started": "2024-08-14T00:31:30.240494Z"
    }
   },
   "outputs": [
    {
     "data": {
      "text/plain": [
       "0"
      ]
     },
     "execution_count": 8,
     "metadata": {},
     "output_type": "execute_result"
    }
   ],
   "source": [
    "await client.strlen(\"not a key\")"
   ]
  },
  {
   "cell_type": "code",
   "execution_count": 9,
   "id": "a467cda2-67e2-4079-9731-0ea4b7531c71",
   "metadata": {
    "execution": {
     "iopub.execute_input": "2024-08-14T00:31:30.247404Z",
     "iopub.status.busy": "2024-08-14T00:31:30.247256Z",
     "iopub.status.idle": "2024-08-14T00:31:30.253044Z",
     "shell.execute_reply": "2024-08-14T00:31:30.252793Z",
     "shell.execute_reply.started": "2024-08-14T00:31:30.247394Z"
    }
   },
   "outputs": [
    {
     "data": {
      "text/plain": [
       "True"
      ]
     },
     "execution_count": 9,
     "metadata": {},
     "output_type": "execute_result"
    }
   ],
   "source": [
    "await client.set(\"count\", 1)"
   ]
  },
  {
   "cell_type": "code",
   "execution_count": 10,
   "id": "116ae6e8-dcaa-4398-81f6-43134eec7f01",
   "metadata": {
    "execution": {
     "iopub.execute_input": "2024-08-14T00:31:30.253635Z",
     "iopub.status.busy": "2024-08-14T00:31:30.253512Z",
     "iopub.status.idle": "2024-08-14T00:31:30.259373Z",
     "shell.execute_reply": "2024-08-14T00:31:30.259113Z",
     "shell.execute_reply.started": "2024-08-14T00:31:30.253626Z"
    }
   },
   "outputs": [
    {
     "data": {
      "text/plain": [
       "b'1'"
      ]
     },
     "execution_count": 10,
     "metadata": {},
     "output_type": "execute_result"
    }
   ],
   "source": [
    "await client.get(\"count\")"
   ]
  },
  {
   "cell_type": "code",
   "execution_count": 11,
   "id": "de0d7817-6ee9-4d2b-8618-72ab903d8729",
   "metadata": {
    "execution": {
     "iopub.execute_input": "2024-08-14T00:31:30.259889Z",
     "iopub.status.busy": "2024-08-14T00:31:30.259790Z",
     "iopub.status.idle": "2024-08-14T00:31:30.266762Z",
     "shell.execute_reply": "2024-08-14T00:31:30.266526Z",
     "shell.execute_reply.started": "2024-08-14T00:31:30.259879Z"
    }
   },
   "outputs": [
    {
     "data": {
      "text/plain": [
       "2"
      ]
     },
     "execution_count": 11,
     "metadata": {},
     "output_type": "execute_result"
    }
   ],
   "source": [
    "await client.incr(\"count\")"
   ]
  },
  {
   "cell_type": "code",
   "execution_count": 12,
   "id": "2e4da8ad-df1d-4b11-92bb-38a8318e2b41",
   "metadata": {
    "execution": {
     "iopub.execute_input": "2024-08-14T00:31:30.267370Z",
     "iopub.status.busy": "2024-08-14T00:31:30.267237Z",
     "iopub.status.idle": "2024-08-14T00:31:30.273223Z",
     "shell.execute_reply": "2024-08-14T00:31:30.272957Z",
     "shell.execute_reply.started": "2024-08-14T00:31:30.267359Z"
    }
   },
   "outputs": [
    {
     "data": {
      "text/plain": [
       "b'2'"
      ]
     },
     "execution_count": 12,
     "metadata": {},
     "output_type": "execute_result"
    }
   ],
   "source": [
    "await client.get(\"count\")"
   ]
  },
  {
   "cell_type": "code",
   "execution_count": 13,
   "id": "83eb4541-13e9-4d12-9f3e-192f8a49b481",
   "metadata": {
    "execution": {
     "iopub.execute_input": "2024-08-14T00:31:30.273700Z",
     "iopub.status.busy": "2024-08-14T00:31:30.273623Z",
     "iopub.status.idle": "2024-08-14T00:31:30.279739Z",
     "shell.execute_reply": "2024-08-14T00:31:30.279499Z",
     "shell.execute_reply.started": "2024-08-14T00:31:30.273692Z"
    }
   },
   "outputs": [
    {
     "data": {
      "text/plain": [
       "12"
      ]
     },
     "execution_count": 13,
     "metadata": {},
     "output_type": "execute_result"
    }
   ],
   "source": [
    "await client.incrby(\"count\", amount=10)"
   ]
  },
  {
   "cell_type": "code",
   "execution_count": 14,
   "id": "49590bca-4b28-4eee-9c25-c3383cad4c99",
   "metadata": {
    "execution": {
     "iopub.execute_input": "2024-08-14T00:31:30.280310Z",
     "iopub.status.busy": "2024-08-14T00:31:30.280160Z",
     "iopub.status.idle": "2024-08-14T00:31:30.287189Z",
     "shell.execute_reply": "2024-08-14T00:31:30.286961Z",
     "shell.execute_reply.started": "2024-08-14T00:31:30.280297Z"
    }
   },
   "outputs": [
    {
     "data": {
      "text/plain": [
       "b'12'"
      ]
     },
     "execution_count": 14,
     "metadata": {},
     "output_type": "execute_result"
    }
   ],
   "source": [
    "await client.get(\"count\")"
   ]
  },
  {
   "cell_type": "code",
   "execution_count": 15,
   "id": "2622f777-4305-4766-907e-05c84f21b578",
   "metadata": {
    "execution": {
     "iopub.execute_input": "2024-08-14T00:31:30.287698Z",
     "iopub.status.busy": "2024-08-14T00:31:30.287608Z",
     "iopub.status.idle": "2024-08-14T00:31:30.293931Z",
     "shell.execute_reply": "2024-08-14T00:31:30.293694Z",
     "shell.execute_reply.started": "2024-08-14T00:31:30.287690Z"
    }
   },
   "outputs": [
    {
     "data": {
      "text/plain": [
       "11"
      ]
     },
     "execution_count": 15,
     "metadata": {},
     "output_type": "execute_result"
    }
   ],
   "source": [
    "await client.decr(\"count\")"
   ]
  },
  {
   "cell_type": "code",
   "execution_count": 16,
   "id": "e28db14b-6c05-4181-9841-a98ba13c9f5c",
   "metadata": {
    "execution": {
     "iopub.execute_input": "2024-08-14T00:31:30.294333Z",
     "iopub.status.busy": "2024-08-14T00:31:30.294251Z",
     "iopub.status.idle": "2024-08-14T00:31:30.301483Z",
     "shell.execute_reply": "2024-08-14T00:31:30.301251Z",
     "shell.execute_reply.started": "2024-08-14T00:31:30.294325Z"
    }
   },
   "outputs": [
    {
     "data": {
      "text/plain": [
       "6"
      ]
     },
     "execution_count": 16,
     "metadata": {},
     "output_type": "execute_result"
    }
   ],
   "source": [
    "await client.decrby(\"count\", amount=5)"
   ]
  },
  {
   "cell_type": "code",
   "execution_count": 17,
   "id": "a5afec7f-79bf-44f0-abaa-978dbe5512d9",
   "metadata": {
    "execution": {
     "iopub.execute_input": "2024-08-14T00:31:30.302079Z",
     "iopub.status.busy": "2024-08-14T00:31:30.301930Z",
     "iopub.status.idle": "2024-08-14T00:31:30.308354Z",
     "shell.execute_reply": "2024-08-14T00:31:30.308114Z",
     "shell.execute_reply.started": "2024-08-14T00:31:30.302067Z"
    }
   },
   "outputs": [
    {
     "data": {
      "text/plain": [
       "5"
      ]
     },
     "execution_count": 17,
     "metadata": {},
     "output_type": "execute_result"
    }
   ],
   "source": [
    "await client.decr(\"count\")"
   ]
  },
  {
   "cell_type": "code",
   "execution_count": 18,
   "id": "d5791940-90e4-416f-a35b-70a77cb480eb",
   "metadata": {
    "execution": {
     "iopub.execute_input": "2024-08-14T00:31:30.308862Z",
     "iopub.status.busy": "2024-08-14T00:31:30.308759Z",
     "iopub.status.idle": "2024-08-14T00:31:30.317396Z",
     "shell.execute_reply": "2024-08-14T00:31:30.317119Z",
     "shell.execute_reply.started": "2024-08-14T00:31:30.308850Z"
    }
   },
   "outputs": [
    {
     "data": {
      "text/plain": [
       "True"
      ]
     },
     "execution_count": 18,
     "metadata": {},
     "output_type": "execute_result"
    }
   ],
   "source": [
    "await client.set(\"pi\", 3.14)"
   ]
  },
  {
   "cell_type": "code",
   "execution_count": 19,
   "id": "bdd6d518-5cad-4073-9087-9f2eec576acf",
   "metadata": {
    "execution": {
     "iopub.execute_input": "2024-08-14T00:31:30.317885Z",
     "iopub.status.busy": "2024-08-14T00:31:30.317801Z",
     "iopub.status.idle": "2024-08-14T00:31:30.324566Z",
     "shell.execute_reply": "2024-08-14T00:31:30.324316Z",
     "shell.execute_reply.started": "2024-08-14T00:31:30.317877Z"
    }
   },
   "outputs": [
    {
     "data": {
      "text/plain": [
       "b'3.14'"
      ]
     },
     "execution_count": 19,
     "metadata": {},
     "output_type": "execute_result"
    }
   ],
   "source": [
    "await client.get(\"pi\")"
   ]
  },
  {
   "cell_type": "code",
   "execution_count": 20,
   "id": "f219ac11-bcab-4a5c-96a3-3a89b32b715c",
   "metadata": {
    "execution": {
     "iopub.execute_input": "2024-08-14T00:31:30.325106Z",
     "iopub.status.busy": "2024-08-14T00:31:30.325028Z",
     "iopub.status.idle": "2024-08-14T00:31:30.332651Z",
     "shell.execute_reply": "2024-08-14T00:31:30.332417Z",
     "shell.execute_reply.started": "2024-08-14T00:31:30.325098Z"
    }
   },
   "outputs": [
    {
     "data": {
      "text/plain": [
       "4.140000000000001"
      ]
     },
     "execution_count": 20,
     "metadata": {},
     "output_type": "execute_result"
    }
   ],
   "source": [
    "await client.incrbyfloat(\"pi\", amount=1.0)"
   ]
  },
  {
   "cell_type": "code",
   "execution_count": 21,
   "id": "c7959099-c080-4b95-aad1-1af61aa44ea8",
   "metadata": {
    "execution": {
     "iopub.execute_input": "2024-08-14T00:31:30.333156Z",
     "iopub.status.busy": "2024-08-14T00:31:30.333068Z",
     "iopub.status.idle": "2024-08-14T00:31:30.339950Z",
     "shell.execute_reply": "2024-08-14T00:31:30.339708Z",
     "shell.execute_reply.started": "2024-08-14T00:31:30.333149Z"
    }
   },
   "outputs": [
    {
     "data": {
      "text/plain": [
       "True"
      ]
     },
     "execution_count": 21,
     "metadata": {},
     "output_type": "execute_result"
    }
   ],
   "source": [
    "await client.set(\"a\", 1)"
   ]
  },
  {
   "cell_type": "code",
   "execution_count": 22,
   "id": "cc492e3a-6ba7-43a2-9e3d-26dcd9cfc26f",
   "metadata": {
    "execution": {
     "iopub.execute_input": "2024-08-14T00:31:30.340502Z",
     "iopub.status.busy": "2024-08-14T00:31:30.340412Z",
     "iopub.status.idle": "2024-08-14T00:31:30.347099Z",
     "shell.execute_reply": "2024-08-14T00:31:30.346881Z",
     "shell.execute_reply.started": "2024-08-14T00:31:30.340494Z"
    }
   },
   "outputs": [
    {
     "data": {
      "text/plain": [
       "True"
      ]
     },
     "execution_count": 22,
     "metadata": {},
     "output_type": "execute_result"
    }
   ],
   "source": [
    "await client.expire(\"a\", 10)"
   ]
  },
  {
   "cell_type": "code",
   "execution_count": 23,
   "id": "b9cd00b3-432a-461d-8902-39b4b969ddee",
   "metadata": {
    "execution": {
     "iopub.execute_input": "2024-08-14T00:31:30.347641Z",
     "iopub.status.busy": "2024-08-14T00:31:30.347535Z",
     "iopub.status.idle": "2024-08-14T00:31:30.353337Z",
     "shell.execute_reply": "2024-08-14T00:31:30.353112Z",
     "shell.execute_reply.started": "2024-08-14T00:31:30.347632Z"
    }
   },
   "outputs": [
    {
     "data": {
      "text/plain": [
       "10"
      ]
     },
     "execution_count": 23,
     "metadata": {},
     "output_type": "execute_result"
    }
   ],
   "source": [
    "await client.ttl(\"a\")"
   ]
  },
  {
   "cell_type": "code",
   "execution_count": 24,
   "id": "8cd158aa-83ca-4dba-aab5-eb800fa97aeb",
   "metadata": {
    "execution": {
     "iopub.execute_input": "2024-08-14T00:31:30.353939Z",
     "iopub.status.busy": "2024-08-14T00:31:30.353847Z",
     "iopub.status.idle": "2024-08-14T00:31:30.359713Z",
     "shell.execute_reply": "2024-08-14T00:31:30.359472Z",
     "shell.execute_reply.started": "2024-08-14T00:31:30.353931Z"
    }
   },
   "outputs": [
    {
     "data": {
      "text/plain": [
       "b'1'"
      ]
     },
     "execution_count": 24,
     "metadata": {},
     "output_type": "execute_result"
    }
   ],
   "source": [
    "await client.get(\"a\")"
   ]
  },
  {
   "cell_type": "code",
   "execution_count": 25,
   "id": "aa8eb5f6-2945-422b-bb71-f366ef74f432",
   "metadata": {
    "execution": {
     "iopub.execute_input": "2024-08-14T00:31:30.360251Z",
     "iopub.status.busy": "2024-08-14T00:31:30.360124Z",
     "iopub.status.idle": "2024-08-14T00:31:30.365921Z",
     "shell.execute_reply": "2024-08-14T00:31:30.365668Z",
     "shell.execute_reply.started": "2024-08-14T00:31:30.360243Z"
    }
   },
   "outputs": [
    {
     "data": {
      "text/plain": [
       "True"
      ]
     },
     "execution_count": 25,
     "metadata": {},
     "output_type": "execute_result"
    }
   ],
   "source": [
    "await client.setex(\"b\", 10, \"anyvalue\")"
   ]
  },
  {
   "cell_type": "code",
   "execution_count": 26,
   "id": "56bb1bb8-b08b-4538-8ce5-7592c629cfcd",
   "metadata": {
    "execution": {
     "iopub.execute_input": "2024-08-14T00:31:30.366459Z",
     "iopub.status.busy": "2024-08-14T00:31:30.366357Z",
     "iopub.status.idle": "2024-08-14T00:31:30.374149Z",
     "shell.execute_reply": "2024-08-14T00:31:30.373858Z",
     "shell.execute_reply.started": "2024-08-14T00:31:30.366449Z"
    }
   },
   "outputs": [
    {
     "data": {
      "text/plain": [
       "b'anyvalue'"
      ]
     },
     "execution_count": 26,
     "metadata": {},
     "output_type": "execute_result"
    }
   ],
   "source": [
    "await client.get(\"b\")"
   ]
  },
  {
   "cell_type": "markdown",
   "id": "10630538-746e-449b-b31b-34183f7d29ad",
   "metadata": {},
   "source": [
    "# lists"
   ]
  },
  {
   "cell_type": "code",
   "execution_count": 27,
   "id": "a16ee485-3bd0-49da-9a24-7f995123be4a",
   "metadata": {
    "execution": {
     "iopub.execute_input": "2024-08-14T00:31:30.374704Z",
     "iopub.status.busy": "2024-08-14T00:31:30.374615Z",
     "iopub.status.idle": "2024-08-14T00:31:30.380950Z",
     "shell.execute_reply": "2024-08-14T00:31:30.380701Z",
     "shell.execute_reply.started": "2024-08-14T00:31:30.374691Z"
    }
   },
   "outputs": [
    {
     "data": {
      "text/plain": [
       "[b'name', b'b', b'technology', b'lang', b'a', b'pi', b'email', b'count']"
      ]
     },
     "execution_count": 27,
     "metadata": {},
     "output_type": "execute_result"
    }
   ],
   "source": [
    "await client.keys()"
   ]
  },
  {
   "cell_type": "code",
   "execution_count": 28,
   "id": "d4c91508-f406-4693-9e6a-9fff7513c56b",
   "metadata": {
    "execution": {
     "iopub.execute_input": "2024-08-14T00:31:30.381447Z",
     "iopub.status.busy": "2024-08-14T00:31:30.381365Z",
     "iopub.status.idle": "2024-08-14T00:31:30.396753Z",
     "shell.execute_reply": "2024-08-14T00:31:30.396498Z",
     "shell.execute_reply.started": "2024-08-14T00:31:30.381439Z"
    }
   },
   "outputs": [
    {
     "data": {
      "text/plain": [
       "True"
      ]
     },
     "execution_count": 28,
     "metadata": {},
     "output_type": "execute_result"
    }
   ],
   "source": [
    "await client.flushall()"
   ]
  },
  {
   "cell_type": "code",
   "execution_count": 29,
   "id": "9353347c-4784-4cd0-b521-ea6db65d774d",
   "metadata": {
    "execution": {
     "iopub.execute_input": "2024-08-14T00:31:30.397231Z",
     "iopub.status.busy": "2024-08-14T00:31:30.397150Z",
     "iopub.status.idle": "2024-08-14T00:31:30.404733Z",
     "shell.execute_reply": "2024-08-14T00:31:30.404502Z",
     "shell.execute_reply.started": "2024-08-14T00:31:30.397223Z"
    }
   },
   "outputs": [
    {
     "data": {
      "text/plain": [
       "[]"
      ]
     },
     "execution_count": 29,
     "metadata": {},
     "output_type": "execute_result"
    }
   ],
   "source": [
    "await client.keys()"
   ]
  },
  {
   "cell_type": "code",
   "execution_count": 30,
   "id": "a1d9a840-db51-4917-8a27-8c67a27e6a67",
   "metadata": {
    "execution": {
     "iopub.execute_input": "2024-08-14T00:31:30.405459Z",
     "iopub.status.busy": "2024-08-14T00:31:30.405147Z",
     "iopub.status.idle": "2024-08-14T00:31:30.411760Z",
     "shell.execute_reply": "2024-08-14T00:31:30.411550Z",
     "shell.execute_reply.started": "2024-08-14T00:31:30.405445Z"
    }
   },
   "outputs": [
    {
     "data": {
      "text/plain": [
       "1"
      ]
     },
     "execution_count": 30,
     "metadata": {},
     "output_type": "execute_result"
    }
   ],
   "source": [
    "await client.lpush(\"country\", \"japan\")"
   ]
  },
  {
   "cell_type": "code",
   "execution_count": 31,
   "id": "486a8dc3-045e-4935-b1b7-fa6dc47c2328",
   "metadata": {
    "execution": {
     "iopub.execute_input": "2024-08-14T00:31:30.412371Z",
     "iopub.status.busy": "2024-08-14T00:31:30.412198Z",
     "iopub.status.idle": "2024-08-14T00:31:30.418505Z",
     "shell.execute_reply": "2024-08-14T00:31:30.418288Z",
     "shell.execute_reply.started": "2024-08-14T00:31:30.412362Z"
    }
   },
   "outputs": [
    {
     "data": {
      "text/plain": [
       "2"
      ]
     },
     "execution_count": 31,
     "metadata": {},
     "output_type": "execute_result"
    }
   ],
   "source": [
    "await client.lpush(\"country\", \"hong kong\")"
   ]
  },
  {
   "cell_type": "code",
   "execution_count": 32,
   "id": "6bd598c8-a16b-463a-9252-3e151e8829bc",
   "metadata": {
    "execution": {
     "iopub.execute_input": "2024-08-14T00:31:30.419043Z",
     "iopub.status.busy": "2024-08-14T00:31:30.418923Z",
     "iopub.status.idle": "2024-08-14T00:31:30.425148Z",
     "shell.execute_reply": "2024-08-14T00:31:30.424907Z",
     "shell.execute_reply.started": "2024-08-14T00:31:30.419034Z"
    }
   },
   "outputs": [
    {
     "data": {
      "text/plain": [
       "[b'hong kong', b'japan']"
      ]
     },
     "execution_count": 32,
     "metadata": {},
     "output_type": "execute_result"
    }
   ],
   "source": [
    "await client.lrange(\"country\", 0, -1)"
   ]
  },
  {
   "cell_type": "code",
   "execution_count": 33,
   "id": "dc18cf7b-e3cc-4713-94d7-247997acf05a",
   "metadata": {
    "execution": {
     "iopub.execute_input": "2024-08-14T00:31:30.425716Z",
     "iopub.status.busy": "2024-08-14T00:31:30.425578Z",
     "iopub.status.idle": "2024-08-14T00:31:30.432761Z",
     "shell.execute_reply": "2024-08-14T00:31:30.432536Z",
     "shell.execute_reply.started": "2024-08-14T00:31:30.425703Z"
    }
   },
   "outputs": [
    {
     "data": {
      "text/plain": [
       "3"
      ]
     },
     "execution_count": 33,
     "metadata": {},
     "output_type": "execute_result"
    }
   ],
   "source": [
    "await client.lpush(\"country\", \"U.K.\")"
   ]
  },
  {
   "cell_type": "code",
   "execution_count": 34,
   "id": "0255a148-f107-4add-a80b-db4b478d9c35",
   "metadata": {
    "execution": {
     "iopub.execute_input": "2024-08-14T00:31:30.433333Z",
     "iopub.status.busy": "2024-08-14T00:31:30.433194Z",
     "iopub.status.idle": "2024-08-14T00:31:30.439418Z",
     "shell.execute_reply": "2024-08-14T00:31:30.439168Z",
     "shell.execute_reply.started": "2024-08-14T00:31:30.433324Z"
    }
   },
   "outputs": [
    {
     "data": {
      "text/plain": [
       "[b'U.K.', b'hong kong', b'japan']"
      ]
     },
     "execution_count": 34,
     "metadata": {},
     "output_type": "execute_result"
    }
   ],
   "source": [
    "await client.lrange(\"country\", 0, -1)"
   ]
  },
  {
   "cell_type": "code",
   "execution_count": 35,
   "id": "d9462bb7-a79e-45ab-83cf-82b3fe59b092",
   "metadata": {
    "execution": {
     "iopub.execute_input": "2024-08-14T00:31:30.439997Z",
     "iopub.status.busy": "2024-08-14T00:31:30.439864Z",
     "iopub.status.idle": "2024-08-14T00:31:30.446983Z",
     "shell.execute_reply": "2024-08-14T00:31:30.446726Z",
     "shell.execute_reply.started": "2024-08-14T00:31:30.439986Z"
    }
   },
   "outputs": [
    {
     "data": {
      "text/plain": [
       "[b'U.K.', b'hong kong']"
      ]
     },
     "execution_count": 35,
     "metadata": {},
     "output_type": "execute_result"
    }
   ],
   "source": [
    "await client.lrange(\"country\", 0, 1)"
   ]
  },
  {
   "cell_type": "code",
   "execution_count": 36,
   "id": "9ae5def0-2ba8-46cc-9786-2f25c536bae9",
   "metadata": {
    "execution": {
     "iopub.execute_input": "2024-08-14T00:31:30.447454Z",
     "iopub.status.busy": "2024-08-14T00:31:30.447375Z",
     "iopub.status.idle": "2024-08-14T00:31:30.454317Z",
     "shell.execute_reply": "2024-08-14T00:31:30.454057Z",
     "shell.execute_reply.started": "2024-08-14T00:31:30.447446Z"
    }
   },
   "outputs": [
    {
     "data": {
      "text/plain": [
       "4"
      ]
     },
     "execution_count": 36,
     "metadata": {},
     "output_type": "execute_result"
    }
   ],
   "source": [
    "await client.rpush(\"country\", \"australia\")"
   ]
  },
  {
   "cell_type": "code",
   "execution_count": 37,
   "id": "6f633d44-b1f0-4a7c-8cd6-1ed21f254a56",
   "metadata": {
    "execution": {
     "iopub.execute_input": "2024-08-14T00:31:30.454909Z",
     "iopub.status.busy": "2024-08-14T00:31:30.454790Z",
     "iopub.status.idle": "2024-08-14T00:31:30.461119Z",
     "shell.execute_reply": "2024-08-14T00:31:30.460891Z",
     "shell.execute_reply.started": "2024-08-14T00:31:30.454901Z"
    }
   },
   "outputs": [
    {
     "data": {
      "text/plain": [
       "[b'U.K.', b'hong kong', b'japan', b'australia']"
      ]
     },
     "execution_count": 37,
     "metadata": {},
     "output_type": "execute_result"
    }
   ],
   "source": [
    "await client.lrange(\"country\", 0, -1)"
   ]
  },
  {
   "cell_type": "code",
   "execution_count": 38,
   "id": "7bea0de5-1bbd-49ee-aa7d-9134e5f780fa",
   "metadata": {
    "execution": {
     "iopub.execute_input": "2024-08-14T00:31:30.461607Z",
     "iopub.status.busy": "2024-08-14T00:31:30.461527Z",
     "iopub.status.idle": "2024-08-14T00:31:30.469014Z",
     "shell.execute_reply": "2024-08-14T00:31:30.468799Z",
     "shell.execute_reply.started": "2024-08-14T00:31:30.461599Z"
    }
   },
   "outputs": [
    {
     "data": {
      "text/plain": [
       "4"
      ]
     },
     "execution_count": 38,
     "metadata": {},
     "output_type": "execute_result"
    }
   ],
   "source": [
    "await client.llen(\"country\")"
   ]
  },
  {
   "cell_type": "code",
   "execution_count": 39,
   "id": "1a1eaf8b-8ac5-4bbe-b423-4b8458fdea2e",
   "metadata": {
    "execution": {
     "iopub.execute_input": "2024-08-14T00:31:30.469587Z",
     "iopub.status.busy": "2024-08-14T00:31:30.469458Z",
     "iopub.status.idle": "2024-08-14T00:31:30.475775Z",
     "shell.execute_reply": "2024-08-14T00:31:30.475532Z",
     "shell.execute_reply.started": "2024-08-14T00:31:30.469576Z"
    }
   },
   "outputs": [
    {
     "data": {
      "text/plain": [
       "0"
      ]
     },
     "execution_count": 39,
     "metadata": {},
     "output_type": "execute_result"
    }
   ],
   "source": [
    "await client.llen(\"a\")"
   ]
  },
  {
   "cell_type": "code",
   "execution_count": 40,
   "id": "b6959b33-f978-4cea-b444-0bd57458e9c0",
   "metadata": {
    "execution": {
     "iopub.execute_input": "2024-08-14T00:31:30.476357Z",
     "iopub.status.busy": "2024-08-14T00:31:30.476219Z",
     "iopub.status.idle": "2024-08-14T00:31:30.483659Z",
     "shell.execute_reply": "2024-08-14T00:31:30.483430Z",
     "shell.execute_reply.started": "2024-08-14T00:31:30.476349Z"
    }
   },
   "outputs": [
    {
     "data": {
      "text/plain": [
       "b'U.K.'"
      ]
     },
     "execution_count": 40,
     "metadata": {},
     "output_type": "execute_result"
    }
   ],
   "source": [
    "await client.lpop(\"country\")"
   ]
  },
  {
   "cell_type": "code",
   "execution_count": 41,
   "id": "f4b16ff2-726b-4cdc-8b11-2a5fcd60ef10",
   "metadata": {
    "execution": {
     "iopub.execute_input": "2024-08-14T00:31:30.484121Z",
     "iopub.status.busy": "2024-08-14T00:31:30.484026Z",
     "iopub.status.idle": "2024-08-14T00:31:30.491284Z",
     "shell.execute_reply": "2024-08-14T00:31:30.491060Z",
     "shell.execute_reply.started": "2024-08-14T00:31:30.484113Z"
    }
   },
   "outputs": [
    {
     "data": {
      "text/plain": [
       "b'australia'"
      ]
     },
     "execution_count": 41,
     "metadata": {},
     "output_type": "execute_result"
    }
   ],
   "source": [
    "await client.rpop(\"country\")"
   ]
  },
  {
   "cell_type": "code",
   "execution_count": 42,
   "id": "ac60caeb-02fe-4405-bd18-c60126bd8162",
   "metadata": {
    "execution": {
     "iopub.execute_input": "2024-08-14T00:31:30.491840Z",
     "iopub.status.busy": "2024-08-14T00:31:30.491735Z",
     "iopub.status.idle": "2024-08-14T00:31:30.497854Z",
     "shell.execute_reply": "2024-08-14T00:31:30.497635Z",
     "shell.execute_reply.started": "2024-08-14T00:31:30.491831Z"
    }
   },
   "outputs": [
    {
     "data": {
      "text/plain": [
       "[b'hong kong', b'japan']"
      ]
     },
     "execution_count": 42,
     "metadata": {},
     "output_type": "execute_result"
    }
   ],
   "source": [
    "await client.lrange(\"country\", 0, -1)"
   ]
  },
  {
   "cell_type": "code",
   "execution_count": 43,
   "id": "4bf2ba4c-3f05-49b3-9ed3-7383a37774d8",
   "metadata": {
    "execution": {
     "iopub.execute_input": "2024-08-14T00:31:30.498357Z",
     "iopub.status.busy": "2024-08-14T00:31:30.498263Z",
     "iopub.status.idle": "2024-08-14T00:31:30.505754Z",
     "shell.execute_reply": "2024-08-14T00:31:30.505540Z",
     "shell.execute_reply.started": "2024-08-14T00:31:30.498349Z"
    }
   },
   "outputs": [
    {
     "data": {
      "text/plain": [
       "True"
      ]
     },
     "execution_count": 43,
     "metadata": {},
     "output_type": "execute_result"
    }
   ],
   "source": [
    "await client.lset(\"country\", 0, \"germany\")"
   ]
  },
  {
   "cell_type": "code",
   "execution_count": 44,
   "id": "6d4104a7-5dd8-4147-87f2-3db43d847fb9",
   "metadata": {
    "execution": {
     "iopub.execute_input": "2024-08-14T00:31:30.506389Z",
     "iopub.status.busy": "2024-08-14T00:31:30.506256Z",
     "iopub.status.idle": "2024-08-14T00:31:30.512839Z",
     "shell.execute_reply": "2024-08-14T00:31:30.512616Z",
     "shell.execute_reply.started": "2024-08-14T00:31:30.506380Z"
    }
   },
   "outputs": [
    {
     "data": {
      "text/plain": [
       "[b'germany', b'japan']"
      ]
     },
     "execution_count": 44,
     "metadata": {},
     "output_type": "execute_result"
    }
   ],
   "source": [
    "await client.lrange(\"country\", 0, -1)"
   ]
  },
  {
   "cell_type": "code",
   "execution_count": 45,
   "id": "b3024d46-f4d6-47e9-976c-0da42677bd2c",
   "metadata": {
    "execution": {
     "iopub.execute_input": "2024-08-14T00:31:30.513307Z",
     "iopub.status.busy": "2024-08-14T00:31:30.513240Z",
     "iopub.status.idle": "2024-08-14T00:31:30.519739Z",
     "shell.execute_reply": "2024-08-14T00:31:30.519512Z",
     "shell.execute_reply.started": "2024-08-14T00:31:30.513300Z"
    }
   },
   "outputs": [
    {
     "data": {
      "text/plain": [
       "3"
      ]
     },
     "execution_count": 45,
     "metadata": {},
     "output_type": "execute_result"
    }
   ],
   "source": [
    "await client.linsert(\"country\", \"before\", \"japan\", \"china\")"
   ]
  },
  {
   "cell_type": "code",
   "execution_count": 46,
   "id": "a0354717-3429-4f34-90a5-2a738fd08939",
   "metadata": {
    "execution": {
     "iopub.execute_input": "2024-08-14T00:31:30.520284Z",
     "iopub.status.busy": "2024-08-14T00:31:30.520170Z",
     "iopub.status.idle": "2024-08-14T00:31:30.526710Z",
     "shell.execute_reply": "2024-08-14T00:31:30.526449Z",
     "shell.execute_reply.started": "2024-08-14T00:31:30.520276Z"
    }
   },
   "outputs": [
    {
     "data": {
      "text/plain": [
       "[b'germany', b'china', b'japan']"
      ]
     },
     "execution_count": 46,
     "metadata": {},
     "output_type": "execute_result"
    }
   ],
   "source": [
    "await client.lrange(\"country\", 0, -1)"
   ]
  },
  {
   "cell_type": "code",
   "execution_count": 47,
   "id": "f3ba3e74-e08a-4770-ad04-8b96e6442f0c",
   "metadata": {
    "execution": {
     "iopub.execute_input": "2024-08-14T00:31:30.527267Z",
     "iopub.status.busy": "2024-08-14T00:31:30.527182Z",
     "iopub.status.idle": "2024-08-14T00:31:30.533752Z",
     "shell.execute_reply": "2024-08-14T00:31:30.533546Z",
     "shell.execute_reply.started": "2024-08-14T00:31:30.527258Z"
    }
   },
   "outputs": [
    {
     "data": {
      "text/plain": [
       "b'japan'"
      ]
     },
     "execution_count": 47,
     "metadata": {},
     "output_type": "execute_result"
    }
   ],
   "source": [
    "await client.lindex(\"country\", 2)"
   ]
  },
  {
   "cell_type": "code",
   "execution_count": 48,
   "id": "3958748e-c784-428b-b2d3-4b0c4a6bd130",
   "metadata": {
    "execution": {
     "iopub.execute_input": "2024-08-14T00:31:30.534232Z",
     "iopub.status.busy": "2024-08-14T00:31:30.534134Z",
     "iopub.status.idle": "2024-08-14T00:31:30.540775Z",
     "shell.execute_reply": "2024-08-14T00:31:30.540556Z",
     "shell.execute_reply.started": "2024-08-14T00:31:30.534223Z"
    }
   },
   "outputs": [
    {
     "data": {
      "text/plain": [
       "0"
      ]
     },
     "execution_count": 48,
     "metadata": {},
     "output_type": "execute_result"
    }
   ],
   "source": [
    "await client.lpushx(\"movies\", \"avengers\")"
   ]
  },
  {
   "cell_type": "code",
   "execution_count": 49,
   "id": "ba08b83d-ca5e-42de-ba6a-82d8b3bdab2d",
   "metadata": {
    "execution": {
     "iopub.execute_input": "2024-08-14T00:31:30.541300Z",
     "iopub.status.busy": "2024-08-14T00:31:30.541211Z",
     "iopub.status.idle": "2024-08-14T00:31:30.548461Z",
     "shell.execute_reply": "2024-08-14T00:31:30.548230Z",
     "shell.execute_reply.started": "2024-08-14T00:31:30.541292Z"
    }
   },
   "outputs": [
    {
     "data": {
      "text/plain": [
       "4"
      ]
     },
     "execution_count": 49,
     "metadata": {},
     "output_type": "execute_result"
    }
   ],
   "source": [
    "await client.lpushx(\"country\", \"south africa\")"
   ]
  },
  {
   "cell_type": "code",
   "execution_count": 50,
   "id": "d32422a2-087a-4884-9e20-19c5e44c045d",
   "metadata": {
    "execution": {
     "iopub.execute_input": "2024-08-14T00:31:30.548939Z",
     "iopub.status.busy": "2024-08-14T00:31:30.548858Z",
     "iopub.status.idle": "2024-08-14T00:31:30.555209Z",
     "shell.execute_reply": "2024-08-14T00:31:30.554997Z",
     "shell.execute_reply.started": "2024-08-14T00:31:30.548930Z"
    }
   },
   "outputs": [
    {
     "data": {
      "text/plain": [
       "[b'china', b'germany', b'japan', b'south africa']"
      ]
     },
     "execution_count": 50,
     "metadata": {},
     "output_type": "execute_result"
    }
   ],
   "source": [
    "await client.sort(\"country\", alpha=True)"
   ]
  },
  {
   "cell_type": "code",
   "execution_count": 51,
   "id": "812a27bc-843f-450f-8fd4-dabe26676041",
   "metadata": {
    "execution": {
     "iopub.execute_input": "2024-08-14T00:31:30.555765Z",
     "iopub.status.busy": "2024-08-14T00:31:30.555677Z",
     "iopub.status.idle": "2024-08-14T00:31:30.563338Z",
     "shell.execute_reply": "2024-08-14T00:31:30.563100Z",
     "shell.execute_reply.started": "2024-08-14T00:31:30.555757Z"
    }
   },
   "outputs": [
    {
     "data": {
      "text/plain": [
       "[b'south africa', b'japan', b'germany', b'china']"
      ]
     },
     "execution_count": 51,
     "metadata": {},
     "output_type": "execute_result"
    }
   ],
   "source": [
    "await client.sort(\"country\", alpha=True, desc=True)"
   ]
  },
  {
   "cell_type": "code",
   "execution_count": 52,
   "id": "0eb52184-0ff7-490e-b409-37bc2f6cd13e",
   "metadata": {
    "execution": {
     "iopub.execute_input": "2024-08-14T00:31:30.563821Z",
     "iopub.status.busy": "2024-08-14T00:31:30.563738Z",
     "iopub.status.idle": "2024-08-14T00:31:31.666031Z",
     "shell.execute_reply": "2024-08-14T00:31:31.664676Z",
     "shell.execute_reply.started": "2024-08-14T00:31:30.563814Z"
    }
   },
   "outputs": [],
   "source": [
    "await client.blpop(\"movies\", 1)"
   ]
  },
  {
   "cell_type": "code",
   "execution_count": 53,
   "id": "d43f9e42-f180-4c5c-9378-f42f95162a3a",
   "metadata": {
    "execution": {
     "iopub.execute_input": "2024-08-14T00:31:31.670490Z",
     "iopub.status.busy": "2024-08-14T00:31:31.669596Z",
     "iopub.status.idle": "2024-08-14T00:31:31.690549Z",
     "shell.execute_reply": "2024-08-14T00:31:31.690039Z",
     "shell.execute_reply.started": "2024-08-14T00:31:31.670433Z"
    }
   },
   "outputs": [],
   "source": [
    "# await client.blpop(\"movies\", 5)"
   ]
  },
  {
   "cell_type": "markdown",
   "id": "4fb4cba1-b84b-4422-8a2a-78d9ac61b8d0",
   "metadata": {},
   "source": [
    "# sets"
   ]
  },
  {
   "cell_type": "code",
   "execution_count": 54,
   "id": "e3b2ddb1-4bbf-4d13-b9e1-29e78d37f1e5",
   "metadata": {
    "execution": {
     "iopub.execute_input": "2024-08-14T00:31:31.691636Z",
     "iopub.status.busy": "2024-08-14T00:31:31.691456Z",
     "iopub.status.idle": "2024-08-14T00:31:31.705621Z",
     "shell.execute_reply": "2024-08-14T00:31:31.705268Z",
     "shell.execute_reply.started": "2024-08-14T00:31:31.691617Z"
    }
   },
   "outputs": [
    {
     "data": {
      "text/plain": [
       "4"
      ]
     },
     "execution_count": 54,
     "metadata": {},
     "output_type": "execute_result"
    }
   ],
   "source": [
    "await client.sadd(\"technology\", \"java\", \"redis\", \"nodejs\", \"aws\")"
   ]
  },
  {
   "cell_type": "code",
   "execution_count": 55,
   "id": "526bffd0-6fab-4084-ba1b-4b86d2839450",
   "metadata": {
    "execution": {
     "iopub.execute_input": "2024-08-14T00:31:31.706583Z",
     "iopub.status.busy": "2024-08-14T00:31:31.706440Z",
     "iopub.status.idle": "2024-08-14T00:31:31.717181Z",
     "shell.execute_reply": "2024-08-14T00:31:31.716734Z",
     "shell.execute_reply.started": "2024-08-14T00:31:31.706569Z"
    }
   },
   "outputs": [
    {
     "data": {
      "text/plain": [
       "{b'aws', b'java', b'nodejs', b'redis'}"
      ]
     },
     "execution_count": 55,
     "metadata": {},
     "output_type": "execute_result"
    }
   ],
   "source": [
    "await client.smembers(\"technology\")"
   ]
  },
  {
   "cell_type": "code",
   "execution_count": 56,
   "id": "5e41c2de-dde3-494c-9ada-c55221493009",
   "metadata": {
    "execution": {
     "iopub.execute_input": "2024-08-14T00:31:31.717973Z",
     "iopub.status.busy": "2024-08-14T00:31:31.717809Z",
     "iopub.status.idle": "2024-08-14T00:31:31.728204Z",
     "shell.execute_reply": "2024-08-14T00:31:31.727869Z",
     "shell.execute_reply.started": "2024-08-14T00:31:31.717956Z"
    }
   },
   "outputs": [
    {
     "data": {
      "text/plain": [
       "0"
      ]
     },
     "execution_count": 56,
     "metadata": {},
     "output_type": "execute_result"
    }
   ],
   "source": [
    "await client.sadd(\"technology\", \"java\")"
   ]
  },
  {
   "cell_type": "code",
   "execution_count": 57,
   "id": "185ab904-920e-4ec9-9d03-82c5c6c10c74",
   "metadata": {
    "execution": {
     "iopub.execute_input": "2024-08-14T00:31:31.728979Z",
     "iopub.status.busy": "2024-08-14T00:31:31.728834Z",
     "iopub.status.idle": "2024-08-14T00:31:31.738107Z",
     "shell.execute_reply": "2024-08-14T00:31:31.737807Z",
     "shell.execute_reply.started": "2024-08-14T00:31:31.728966Z"
    }
   },
   "outputs": [
    {
     "data": {
      "text/plain": [
       "4"
      ]
     },
     "execution_count": 57,
     "metadata": {},
     "output_type": "execute_result"
    }
   ],
   "source": [
    "await client.scard(\"technology\")"
   ]
  },
  {
   "cell_type": "code",
   "execution_count": 58,
   "id": "23570ed2-cf63-4d05-8b04-5c83de56bf1f",
   "metadata": {
    "execution": {
     "iopub.execute_input": "2024-08-14T00:31:31.738687Z",
     "iopub.status.busy": "2024-08-14T00:31:31.738581Z",
     "iopub.status.idle": "2024-08-14T00:31:31.747635Z",
     "shell.execute_reply": "2024-08-14T00:31:31.747372Z",
     "shell.execute_reply.started": "2024-08-14T00:31:31.738676Z"
    }
   },
   "outputs": [
    {
     "data": {
      "text/plain": [
       "1"
      ]
     },
     "execution_count": 58,
     "metadata": {},
     "output_type": "execute_result"
    }
   ],
   "source": [
    "await client.sismember(\"technology\", \"java\")"
   ]
  },
  {
   "cell_type": "code",
   "execution_count": 59,
   "id": "e5848080-9eba-43bf-ba89-4b949a4e3970",
   "metadata": {
    "execution": {
     "iopub.execute_input": "2024-08-14T00:31:31.748472Z",
     "iopub.status.busy": "2024-08-14T00:31:31.748191Z",
     "iopub.status.idle": "2024-08-14T00:31:31.755627Z",
     "shell.execute_reply": "2024-08-14T00:31:31.755338Z",
     "shell.execute_reply.started": "2024-08-14T00:31:31.748456Z"
    }
   },
   "outputs": [
    {
     "data": {
      "text/plain": [
       "4"
      ]
     },
     "execution_count": 59,
     "metadata": {},
     "output_type": "execute_result"
    }
   ],
   "source": [
    "await client.sadd(\"frontend\", \"javascript\", \"html\", \"nodejs\", \"react\")"
   ]
  },
  {
   "cell_type": "code",
   "execution_count": 60,
   "id": "8dc7f2bf-1ed9-45bf-bb37-d033dd9403a5",
   "metadata": {
    "execution": {
     "iopub.execute_input": "2024-08-14T00:31:31.756371Z",
     "iopub.status.busy": "2024-08-14T00:31:31.756151Z",
     "iopub.status.idle": "2024-08-14T00:31:31.763112Z",
     "shell.execute_reply": "2024-08-14T00:31:31.762853Z",
     "shell.execute_reply.started": "2024-08-14T00:31:31.756360Z"
    }
   },
   "outputs": [
    {
     "data": {
      "text/plain": [
       "{b'aws', b'java', b'redis'}"
      ]
     },
     "execution_count": 60,
     "metadata": {},
     "output_type": "execute_result"
    }
   ],
   "source": [
    "await client.sdiff(\"technology\", \"frontend\")"
   ]
  },
  {
   "cell_type": "code",
   "execution_count": 61,
   "id": "10d42872-77a9-439b-984a-9d450d644ec4",
   "metadata": {
    "execution": {
     "iopub.execute_input": "2024-08-14T00:31:31.763587Z",
     "iopub.status.busy": "2024-08-14T00:31:31.763495Z",
     "iopub.status.idle": "2024-08-14T00:31:31.771881Z",
     "shell.execute_reply": "2024-08-14T00:31:31.771625Z",
     "shell.execute_reply.started": "2024-08-14T00:31:31.763578Z"
    }
   },
   "outputs": [
    {
     "data": {
      "text/plain": [
       "3"
      ]
     },
     "execution_count": 61,
     "metadata": {},
     "output_type": "execute_result"
    }
   ],
   "source": [
    "await client.sdiffstore(\"newset\", \"technology\", \"frontend\")"
   ]
  },
  {
   "cell_type": "code",
   "execution_count": 62,
   "id": "3ca43b25-c0ae-4a42-ae47-79fd60c9dfe6",
   "metadata": {
    "execution": {
     "iopub.execute_input": "2024-08-14T00:31:31.772453Z",
     "iopub.status.busy": "2024-08-14T00:31:31.772331Z",
     "iopub.status.idle": "2024-08-14T00:31:31.779200Z",
     "shell.execute_reply": "2024-08-14T00:31:31.778965Z",
     "shell.execute_reply.started": "2024-08-14T00:31:31.772441Z"
    }
   },
   "outputs": [
    {
     "data": {
      "text/plain": [
       "{b'aws', b'java', b'redis'}"
      ]
     },
     "execution_count": 62,
     "metadata": {},
     "output_type": "execute_result"
    }
   ],
   "source": [
    "await client.smembers(\"newset\")"
   ]
  },
  {
   "cell_type": "code",
   "execution_count": 63,
   "id": "83b013d7-b0a9-4943-8e7f-bad7222d0250",
   "metadata": {
    "execution": {
     "iopub.execute_input": "2024-08-14T00:31:31.779673Z",
     "iopub.status.busy": "2024-08-14T00:31:31.779587Z",
     "iopub.status.idle": "2024-08-14T00:31:31.786551Z",
     "shell.execute_reply": "2024-08-14T00:31:31.786329Z",
     "shell.execute_reply.started": "2024-08-14T00:31:31.779664Z"
    }
   },
   "outputs": [
    {
     "data": {
      "text/plain": [
       "{b'nodejs'}"
      ]
     },
     "execution_count": 63,
     "metadata": {},
     "output_type": "execute_result"
    }
   ],
   "source": [
    "await client.sinter(\"technology\", \"frontend\")"
   ]
  },
  {
   "cell_type": "code",
   "execution_count": 64,
   "id": "04d1e14f-815d-4c31-aecc-61ffa610b7b3",
   "metadata": {
    "execution": {
     "iopub.execute_input": "2024-08-14T00:31:31.786978Z",
     "iopub.status.busy": "2024-08-14T00:31:31.786887Z",
     "iopub.status.idle": "2024-08-14T00:31:31.793230Z",
     "shell.execute_reply": "2024-08-14T00:31:31.793004Z",
     "shell.execute_reply.started": "2024-08-14T00:31:31.786969Z"
    }
   },
   "outputs": [
    {
     "data": {
      "text/plain": [
       "set()"
      ]
     },
     "execution_count": 64,
     "metadata": {},
     "output_type": "execute_result"
    }
   ],
   "source": [
    "await client.sinter(\"technology\", \"frontend\", \"newset\")"
   ]
  },
  {
   "cell_type": "code",
   "execution_count": 65,
   "id": "12988596-c3d2-4c66-bacf-e4a798004304",
   "metadata": {
    "execution": {
     "iopub.execute_input": "2024-08-14T00:31:31.793676Z",
     "iopub.status.busy": "2024-08-14T00:31:31.793590Z",
     "iopub.status.idle": "2024-08-14T00:31:31.800337Z",
     "shell.execute_reply": "2024-08-14T00:31:31.800117Z",
     "shell.execute_reply.started": "2024-08-14T00:31:31.793668Z"
    }
   },
   "outputs": [
    {
     "data": {
      "text/plain": [
       "{b'aws', b'html', b'java', b'javascript', b'nodejs', b'react', b'redis'}"
      ]
     },
     "execution_count": 65,
     "metadata": {},
     "output_type": "execute_result"
    }
   ],
   "source": [
    "await client.sunion(\"technology\", \"frontend\")"
   ]
  },
  {
   "cell_type": "markdown",
   "id": "b335d4fa-79f6-466a-a77d-8384700bb6d8",
   "metadata": {},
   "source": [
    "# sorted sets"
   ]
  },
  {
   "cell_type": "code",
   "execution_count": 66,
   "id": "14d7543e-2beb-4c6a-a275-cdfa30290fd4",
   "metadata": {
    "execution": {
     "iopub.execute_input": "2024-08-14T00:31:31.800781Z",
     "iopub.status.busy": "2024-08-14T00:31:31.800698Z",
     "iopub.status.idle": "2024-08-14T00:31:31.807133Z",
     "shell.execute_reply": "2024-08-14T00:31:31.806897Z",
     "shell.execute_reply.started": "2024-08-14T00:31:31.800773Z"
    }
   },
   "outputs": [
    {
     "data": {
      "text/plain": [
       "1"
      ]
     },
     "execution_count": 66,
     "metadata": {},
     "output_type": "execute_result"
    }
   ],
   "source": [
    "await client.zadd(\"users\", {\"shabbir\": 1})"
   ]
  },
  {
   "cell_type": "code",
   "execution_count": 67,
   "id": "524617f4-063d-4f2a-9256-3debef5a778e",
   "metadata": {
    "execution": {
     "iopub.execute_input": "2024-08-14T00:31:31.807749Z",
     "iopub.status.busy": "2024-08-14T00:31:31.807569Z",
     "iopub.status.idle": "2024-08-14T00:31:31.814103Z",
     "shell.execute_reply": "2024-08-14T00:31:31.813852Z",
     "shell.execute_reply.started": "2024-08-14T00:31:31.807739Z"
    }
   },
   "outputs": [
    {
     "data": {
      "text/plain": [
       "4"
      ]
     },
     "execution_count": 67,
     "metadata": {},
     "output_type": "execute_result"
    }
   ],
   "source": [
    "await client.zadd(\"users\", {\"alex\": 2, \"nimah\": 3, \"steve\": 4, \"nick\": 5})"
   ]
  },
  {
   "cell_type": "code",
   "execution_count": 68,
   "id": "5a80d337-8b52-4d09-aab9-e83f36b3af7c",
   "metadata": {
    "execution": {
     "iopub.execute_input": "2024-08-14T00:31:31.814694Z",
     "iopub.status.busy": "2024-08-14T00:31:31.814595Z",
     "iopub.status.idle": "2024-08-14T00:31:31.821596Z",
     "shell.execute_reply": "2024-08-14T00:31:31.821376Z",
     "shell.execute_reply.started": "2024-08-14T00:31:31.814685Z"
    }
   },
   "outputs": [
    {
     "data": {
      "text/plain": [
       "[b'shabbir', b'alex', b'nimah', b'steve', b'nick']"
      ]
     },
     "execution_count": 68,
     "metadata": {},
     "output_type": "execute_result"
    }
   ],
   "source": [
    "await client.zrange(\"users\", 0, -1)"
   ]
  },
  {
   "cell_type": "code",
   "execution_count": 69,
   "id": "665fd1ab-4349-4014-b0d5-8866f04787e9",
   "metadata": {
    "execution": {
     "iopub.execute_input": "2024-08-14T00:31:31.822069Z",
     "iopub.status.busy": "2024-08-14T00:31:31.821987Z",
     "iopub.status.idle": "2024-08-14T00:31:31.828751Z",
     "shell.execute_reply": "2024-08-14T00:31:31.828536Z",
     "shell.execute_reply.started": "2024-08-14T00:31:31.822061Z"
    }
   },
   "outputs": [
    {
     "data": {
      "text/plain": [
       "[(b'shabbir', 1.0),\n",
       " (b'alex', 2.0),\n",
       " (b'nimah', 3.0),\n",
       " (b'steve', 4.0),\n",
       " (b'nick', 5.0)]"
      ]
     },
     "execution_count": 69,
     "metadata": {},
     "output_type": "execute_result"
    }
   ],
   "source": [
    "await client.zrange(\"users\", 0, -1, withscores=True)"
   ]
  },
  {
   "cell_type": "code",
   "execution_count": 70,
   "id": "99de6634-03b4-4aba-aeb0-7aefd9a05597",
   "metadata": {
    "execution": {
     "iopub.execute_input": "2024-08-14T00:31:31.829237Z",
     "iopub.status.busy": "2024-08-14T00:31:31.829159Z",
     "iopub.status.idle": "2024-08-14T00:31:31.835947Z",
     "shell.execute_reply": "2024-08-14T00:31:31.835724Z",
     "shell.execute_reply.started": "2024-08-14T00:31:31.829230Z"
    }
   },
   "outputs": [
    {
     "data": {
      "text/plain": [
       "5"
      ]
     },
     "execution_count": 70,
     "metadata": {},
     "output_type": "execute_result"
    }
   ],
   "source": [
    "await client.zcard(\"users\")"
   ]
  },
  {
   "cell_type": "code",
   "execution_count": 71,
   "id": "91243b8b-12b4-4b66-afbe-8928b63acf40",
   "metadata": {
    "execution": {
     "iopub.execute_input": "2024-08-14T00:31:31.836542Z",
     "iopub.status.busy": "2024-08-14T00:31:31.836416Z",
     "iopub.status.idle": "2024-08-14T00:31:31.842880Z",
     "shell.execute_reply": "2024-08-14T00:31:31.842682Z",
     "shell.execute_reply.started": "2024-08-14T00:31:31.836525Z"
    }
   },
   "outputs": [
    {
     "data": {
      "text/plain": [
       "5"
      ]
     },
     "execution_count": 71,
     "metadata": {},
     "output_type": "execute_result"
    }
   ],
   "source": [
    "await client.zcount(\"users\", -inf, inf)"
   ]
  },
  {
   "cell_type": "code",
   "execution_count": 72,
   "id": "ad123f1d-f42e-48ec-8749-e24e634d53d5",
   "metadata": {
    "execution": {
     "iopub.execute_input": "2024-08-14T00:31:31.843342Z",
     "iopub.status.busy": "2024-08-14T00:31:31.843255Z",
     "iopub.status.idle": "2024-08-14T00:31:31.849404Z",
     "shell.execute_reply": "2024-08-14T00:31:31.849195Z",
     "shell.execute_reply.started": "2024-08-14T00:31:31.843335Z"
    }
   },
   "outputs": [
    {
     "data": {
      "text/plain": [
       "4"
      ]
     },
     "execution_count": 72,
     "metadata": {},
     "output_type": "execute_result"
    }
   ],
   "source": [
    "await client.zcount(\"users\", 0, 4)"
   ]
  },
  {
   "cell_type": "code",
   "execution_count": 73,
   "id": "8e7156dd-bced-49d8-b89f-04e980cb6462",
   "metadata": {
    "execution": {
     "iopub.execute_input": "2024-08-14T00:31:31.849964Z",
     "iopub.status.busy": "2024-08-14T00:31:31.849850Z",
     "iopub.status.idle": "2024-08-14T00:31:31.857154Z",
     "shell.execute_reply": "2024-08-14T00:31:31.856930Z",
     "shell.execute_reply.started": "2024-08-14T00:31:31.849953Z"
    }
   },
   "outputs": [
    {
     "data": {
      "text/plain": [
       "3"
      ]
     },
     "execution_count": 73,
     "metadata": {},
     "output_type": "execute_result"
    }
   ],
   "source": [
    "await client.zremrangebyrank(\"users\", 0, 2)"
   ]
  },
  {
   "cell_type": "code",
   "execution_count": 74,
   "id": "dfa5902a-a524-4fd1-ae5d-c4bd56c96e33",
   "metadata": {
    "execution": {
     "iopub.execute_input": "2024-08-14T00:31:31.857691Z",
     "iopub.status.busy": "2024-08-14T00:31:31.857607Z",
     "iopub.status.idle": "2024-08-14T00:31:31.864671Z",
     "shell.execute_reply": "2024-08-14T00:31:31.864378Z",
     "shell.execute_reply.started": "2024-08-14T00:31:31.857683Z"
    }
   },
   "outputs": [
    {
     "data": {
      "text/plain": [
       "[(b'steve', 4.0), (b'nick', 5.0)]"
      ]
     },
     "execution_count": 74,
     "metadata": {},
     "output_type": "execute_result"
    }
   ],
   "source": [
    "await client.zrange(\"users\", 0, -1, withscores=True)"
   ]
  },
  {
   "cell_type": "markdown",
   "id": "46993a9a-b92c-4b0c-84fe-cbc189e61140",
   "metadata": {},
   "source": [
    "# hyperloglog"
   ]
  },
  {
   "cell_type": "code",
   "execution_count": 75,
   "id": "1a42755d-f460-4b90-9da8-b54984fe5d60",
   "metadata": {
    "execution": {
     "iopub.execute_input": "2024-08-14T00:31:31.865309Z",
     "iopub.status.busy": "2024-08-14T00:31:31.865181Z",
     "iopub.status.idle": "2024-08-14T00:31:31.871858Z",
     "shell.execute_reply": "2024-08-14T00:31:31.871645Z",
     "shell.execute_reply.started": "2024-08-14T00:31:31.865300Z"
    }
   },
   "outputs": [
    {
     "data": {
      "text/plain": [
       "1"
      ]
     },
     "execution_count": 75,
     "metadata": {},
     "output_type": "execute_result"
    }
   ],
   "source": [
    "await client.pfadd(\"hll\", \"a\")"
   ]
  },
  {
   "cell_type": "code",
   "execution_count": 76,
   "id": "ed0bb8dc-59c3-4ac3-b03c-ca65eef3b8f0",
   "metadata": {
    "execution": {
     "iopub.execute_input": "2024-08-14T00:31:31.872404Z",
     "iopub.status.busy": "2024-08-14T00:31:31.872311Z",
     "iopub.status.idle": "2024-08-14T00:31:31.878760Z",
     "shell.execute_reply": "2024-08-14T00:31:31.878529Z",
     "shell.execute_reply.started": "2024-08-14T00:31:31.872394Z"
    }
   },
   "outputs": [
    {
     "data": {
      "text/plain": [
       "1"
      ]
     },
     "execution_count": 76,
     "metadata": {},
     "output_type": "execute_result"
    }
   ],
   "source": [
    "await client.pfadd(\"hll\", \"b\", \"c\", \"d\", \"e\", \"f\", \"g\")"
   ]
  },
  {
   "cell_type": "code",
   "execution_count": 77,
   "id": "a85c3769-a96f-4d3e-bd1d-3310dd8fd8e0",
   "metadata": {
    "execution": {
     "iopub.execute_input": "2024-08-14T00:31:31.879247Z",
     "iopub.status.busy": "2024-08-14T00:31:31.879143Z",
     "iopub.status.idle": "2024-08-14T00:31:31.885771Z",
     "shell.execute_reply": "2024-08-14T00:31:31.885534Z",
     "shell.execute_reply.started": "2024-08-14T00:31:31.879239Z"
    }
   },
   "outputs": [
    {
     "data": {
      "text/plain": [
       "7"
      ]
     },
     "execution_count": 77,
     "metadata": {},
     "output_type": "execute_result"
    }
   ],
   "source": [
    "await client.pfcount(\"hll\")"
   ]
  },
  {
   "cell_type": "code",
   "execution_count": 78,
   "id": "780e378c-2536-4492-9dfb-6709e9121e27",
   "metadata": {
    "execution": {
     "iopub.execute_input": "2024-08-14T00:31:31.886301Z",
     "iopub.status.busy": "2024-08-14T00:31:31.886219Z",
     "iopub.status.idle": "2024-08-14T00:31:31.892236Z",
     "shell.execute_reply": "2024-08-14T00:31:31.891989Z",
     "shell.execute_reply.started": "2024-08-14T00:31:31.886293Z"
    }
   },
   "outputs": [
    {
     "data": {
      "text/plain": [
       "1"
      ]
     },
     "execution_count": 78,
     "metadata": {},
     "output_type": "execute_result"
    }
   ],
   "source": [
    "await client.pfadd(\"hll2\", 1, 2, 3, 4, 5, 6, 7)"
   ]
  },
  {
   "cell_type": "code",
   "execution_count": 79,
   "id": "d3bdddc1-d3a4-4de4-9032-2407802c85c8",
   "metadata": {
    "execution": {
     "iopub.execute_input": "2024-08-14T00:31:31.892634Z",
     "iopub.status.busy": "2024-08-14T00:31:31.892561Z",
     "iopub.status.idle": "2024-08-14T00:31:31.898444Z",
     "shell.execute_reply": "2024-08-14T00:31:31.898213Z",
     "shell.execute_reply.started": "2024-08-14T00:31:31.892627Z"
    }
   },
   "outputs": [
    {
     "data": {
      "text/plain": [
       "7"
      ]
     },
     "execution_count": 79,
     "metadata": {},
     "output_type": "execute_result"
    }
   ],
   "source": [
    "await client.pfcount(\"hll2\")"
   ]
  },
  {
   "cell_type": "code",
   "execution_count": 80,
   "id": "f00954fd-ab99-4d86-bb36-3596dbacdbcc",
   "metadata": {
    "execution": {
     "iopub.execute_input": "2024-08-14T00:31:31.898977Z",
     "iopub.status.busy": "2024-08-14T00:31:31.898861Z",
     "iopub.status.idle": "2024-08-14T00:31:31.904771Z",
     "shell.execute_reply": "2024-08-14T00:31:31.904519Z",
     "shell.execute_reply.started": "2024-08-14T00:31:31.898969Z"
    }
   },
   "outputs": [
    {
     "data": {
      "text/plain": [
       "14"
      ]
     },
     "execution_count": 80,
     "metadata": {},
     "output_type": "execute_result"
    }
   ],
   "source": [
    "await client.pfcount(\"hll\", \"hll2\")"
   ]
  },
  {
   "cell_type": "code",
   "execution_count": 81,
   "id": "b0a9de8c-a70b-4f9f-acf0-aa68b11edafd",
   "metadata": {
    "execution": {
     "iopub.execute_input": "2024-08-14T00:31:31.905389Z",
     "iopub.status.busy": "2024-08-14T00:31:31.905237Z",
     "iopub.status.idle": "2024-08-14T00:31:31.913077Z",
     "shell.execute_reply": "2024-08-14T00:31:31.912857Z",
     "shell.execute_reply.started": "2024-08-14T00:31:31.905378Z"
    }
   },
   "outputs": [
    {
     "data": {
      "text/plain": [
       "True"
      ]
     },
     "execution_count": 81,
     "metadata": {},
     "output_type": "execute_result"
    }
   ],
   "source": [
    "await client.pfmerge(\"mergedhll\", \"hll\", \"hll2\")"
   ]
  },
  {
   "cell_type": "code",
   "execution_count": 82,
   "id": "77544671-31d1-4d69-9f46-dc2323b5c466",
   "metadata": {
    "execution": {
     "iopub.execute_input": "2024-08-14T00:31:31.913591Z",
     "iopub.status.busy": "2024-08-14T00:31:31.913491Z",
     "iopub.status.idle": "2024-08-14T00:31:31.919627Z",
     "shell.execute_reply": "2024-08-14T00:31:31.919359Z",
     "shell.execute_reply.started": "2024-08-14T00:31:31.913583Z"
    }
   },
   "outputs": [
    {
     "data": {
      "text/plain": [
       "14"
      ]
     },
     "execution_count": 82,
     "metadata": {},
     "output_type": "execute_result"
    }
   ],
   "source": [
    "await client.pfcount(\"mergedhll\")"
   ]
  },
  {
   "cell_type": "markdown",
   "id": "77c7b982-7231-45bc-acfd-ff1e96dd3598",
   "metadata": {},
   "source": [
    "# hashes"
   ]
  },
  {
   "cell_type": "code",
   "execution_count": 83,
   "id": "e7f940cc-44cb-4114-8ff4-242fb3661ca3",
   "metadata": {
    "execution": {
     "iopub.execute_input": "2024-08-14T00:31:31.920131Z",
     "iopub.status.busy": "2024-08-14T00:31:31.920002Z",
     "iopub.status.idle": "2024-08-14T00:31:31.925884Z",
     "shell.execute_reply": "2024-08-14T00:31:31.925673Z",
     "shell.execute_reply.started": "2024-08-14T00:31:31.920122Z"
    }
   },
   "outputs": [
    {
     "data": {
      "text/plain": [
       "1"
      ]
     },
     "execution_count": 83,
     "metadata": {},
     "output_type": "execute_result"
    }
   ],
   "source": [
    "await client.hset(\"myhash\", \"name\", \"derek\")"
   ]
  },
  {
   "cell_type": "code",
   "execution_count": 84,
   "id": "899373ac-28fd-4c67-bafc-cb70de48564b",
   "metadata": {
    "execution": {
     "iopub.execute_input": "2024-08-14T00:31:31.926295Z",
     "iopub.status.busy": "2024-08-14T00:31:31.926206Z",
     "iopub.status.idle": "2024-08-14T00:31:31.934038Z",
     "shell.execute_reply": "2024-08-14T00:31:31.933814Z",
     "shell.execute_reply.started": "2024-08-14T00:31:31.926282Z"
    }
   },
   "outputs": [
    {
     "data": {
      "text/plain": [
       "1"
      ]
     },
     "execution_count": 84,
     "metadata": {},
     "output_type": "execute_result"
    }
   ],
   "source": [
    "await client.hset(\"myhash\", \"email\", \"d.wan@icloud.com\")"
   ]
  },
  {
   "cell_type": "code",
   "execution_count": 85,
   "id": "df3e5d77-de0a-42f5-8c38-10ca3cc49d22",
   "metadata": {
    "execution": {
     "iopub.execute_input": "2024-08-14T00:31:31.934535Z",
     "iopub.status.busy": "2024-08-14T00:31:31.934441Z",
     "iopub.status.idle": "2024-08-14T00:31:31.941238Z",
     "shell.execute_reply": "2024-08-14T00:31:31.941020Z",
     "shell.execute_reply.started": "2024-08-14T00:31:31.934527Z"
    }
   },
   "outputs": [
    {
     "data": {
      "text/plain": [
       "[b'name', b'email']"
      ]
     },
     "execution_count": 85,
     "metadata": {},
     "output_type": "execute_result"
    }
   ],
   "source": [
    "await client.hkeys(\"myhash\")"
   ]
  },
  {
   "cell_type": "code",
   "execution_count": 86,
   "id": "ac5998b0-5be1-4d8d-862f-a5f935c46a63",
   "metadata": {
    "execution": {
     "iopub.execute_input": "2024-08-14T00:31:31.941642Z",
     "iopub.status.busy": "2024-08-14T00:31:31.941570Z",
     "iopub.status.idle": "2024-08-14T00:31:31.947682Z",
     "shell.execute_reply": "2024-08-14T00:31:31.947462Z",
     "shell.execute_reply.started": "2024-08-14T00:31:31.941635Z"
    }
   },
   "outputs": [
    {
     "data": {
      "text/plain": [
       "[b'derek', b'd.wan@icloud.com']"
      ]
     },
     "execution_count": 86,
     "metadata": {},
     "output_type": "execute_result"
    }
   ],
   "source": [
    "await client.hvals(\"myhash\")"
   ]
  },
  {
   "cell_type": "code",
   "execution_count": 87,
   "id": "9c04ca7b-50a4-41cc-b6ac-27514e45b255",
   "metadata": {
    "execution": {
     "iopub.execute_input": "2024-08-14T00:31:31.948178Z",
     "iopub.status.busy": "2024-08-14T00:31:31.948088Z",
     "iopub.status.idle": "2024-08-14T00:31:31.955642Z",
     "shell.execute_reply": "2024-08-14T00:31:31.955420Z",
     "shell.execute_reply.started": "2024-08-14T00:31:31.948170Z"
    }
   },
   "outputs": [
    {
     "data": {
      "text/plain": [
       "{b'name': b'derek', b'email': b'd.wan@icloud.com'}"
      ]
     },
     "execution_count": 87,
     "metadata": {},
     "output_type": "execute_result"
    }
   ],
   "source": [
    "await client.hgetall(\"myhash\")"
   ]
  },
  {
   "cell_type": "code",
   "execution_count": 88,
   "id": "0180f1dc-71dd-43fe-8822-01fbd061b7d2",
   "metadata": {
    "execution": {
     "iopub.execute_input": "2024-08-14T00:31:31.956196Z",
     "iopub.status.busy": "2024-08-14T00:31:31.956083Z",
     "iopub.status.idle": "2024-08-14T00:31:31.962568Z",
     "shell.execute_reply": "2024-08-14T00:31:31.962350Z",
     "shell.execute_reply.started": "2024-08-14T00:31:31.956188Z"
    }
   },
   "outputs": [
    {
     "data": {
      "text/plain": [
       "True"
      ]
     },
     "execution_count": 88,
     "metadata": {},
     "output_type": "execute_result"
    }
   ],
   "source": [
    "await client.hexists(\"myhash\", \"name\")"
   ]
  },
  {
   "cell_type": "code",
   "execution_count": 89,
   "id": "a5f122bd-6b25-446f-b2c2-21b263b6c035",
   "metadata": {
    "execution": {
     "iopub.execute_input": "2024-08-14T00:31:31.963156Z",
     "iopub.status.busy": "2024-08-14T00:31:31.963005Z",
     "iopub.status.idle": "2024-08-14T00:31:31.968956Z",
     "shell.execute_reply": "2024-08-14T00:31:31.968739Z",
     "shell.execute_reply.started": "2024-08-14T00:31:31.963144Z"
    }
   },
   "outputs": [
    {
     "data": {
      "text/plain": [
       "2"
      ]
     },
     "execution_count": 89,
     "metadata": {},
     "output_type": "execute_result"
    }
   ],
   "source": [
    "await client.hlen(\"myhash\")"
   ]
  },
  {
   "cell_type": "code",
   "execution_count": 90,
   "id": "8932e856-05bc-4645-b0a1-1d71063ec570",
   "metadata": {
    "execution": {
     "iopub.execute_input": "2024-08-14T00:31:31.969484Z",
     "iopub.status.busy": "2024-08-14T00:31:31.969351Z",
     "iopub.status.idle": "2024-08-14T00:31:31.975135Z",
     "shell.execute_reply": "2024-08-14T00:31:31.974909Z",
     "shell.execute_reply.started": "2024-08-14T00:31:31.969474Z"
    }
   },
   "outputs": [
    {
     "data": {
      "text/plain": [
       "1"
      ]
     },
     "execution_count": 90,
     "metadata": {},
     "output_type": "execute_result"
    }
   ],
   "source": [
    "await client.hset(\"myhash\", \"age\", 25)"
   ]
  },
  {
   "cell_type": "code",
   "execution_count": 91,
   "id": "8c849641-af59-4c2d-9887-970f54c287cf",
   "metadata": {
    "execution": {
     "iopub.execute_input": "2024-08-14T00:31:31.975642Z",
     "iopub.status.busy": "2024-08-14T00:31:31.975533Z",
     "iopub.status.idle": "2024-08-14T00:31:31.981080Z",
     "shell.execute_reply": "2024-08-14T00:31:31.980864Z",
     "shell.execute_reply.started": "2024-08-14T00:31:31.975631Z"
    }
   },
   "outputs": [
    {
     "data": {
      "text/plain": [
       "3"
      ]
     },
     "execution_count": 91,
     "metadata": {},
     "output_type": "execute_result"
    }
   ],
   "source": [
    "await client.hlen(\"myhash\")"
   ]
  },
  {
   "cell_type": "code",
   "execution_count": 92,
   "id": "b8280afc-9283-4595-91af-4b57d9d1b5ec",
   "metadata": {
    "execution": {
     "iopub.execute_input": "2024-08-14T00:31:31.981549Z",
     "iopub.status.busy": "2024-08-14T00:31:31.981467Z",
     "iopub.status.idle": "2024-08-14T00:31:31.987768Z",
     "shell.execute_reply": "2024-08-14T00:31:31.987564Z",
     "shell.execute_reply.started": "2024-08-14T00:31:31.981541Z"
    }
   },
   "outputs": [
    {
     "data": {
      "text/plain": [
       "2"
      ]
     },
     "execution_count": 92,
     "metadata": {},
     "output_type": "execute_result"
    }
   ],
   "source": [
    "await client.hset(\"myhash\", mapping=dict(country=\"japan\", phone=999))"
   ]
  },
  {
   "cell_type": "code",
   "execution_count": 93,
   "id": "fbeb1d2f-6b51-46c0-a477-2da8864a22b9",
   "metadata": {
    "execution": {
     "iopub.execute_input": "2024-08-14T00:31:31.988304Z",
     "iopub.status.busy": "2024-08-14T00:31:31.988220Z",
     "iopub.status.idle": "2024-08-14T00:31:31.995877Z",
     "shell.execute_reply": "2024-08-14T00:31:31.995592Z",
     "shell.execute_reply.started": "2024-08-14T00:31:31.988296Z"
    }
   },
   "outputs": [
    {
     "data": {
      "text/plain": [
       "[b'derek', b'd.wan@icloud.com', b'999']"
      ]
     },
     "execution_count": 93,
     "metadata": {},
     "output_type": "execute_result"
    }
   ],
   "source": [
    "await client.hmget(\"myhash\", \"name\", \"email\", \"phone\")"
   ]
  },
  {
   "cell_type": "code",
   "execution_count": 94,
   "id": "c76ac373-250b-44b2-b896-0d44ffd7eed1",
   "metadata": {
    "execution": {
     "iopub.execute_input": "2024-08-14T00:31:31.996351Z",
     "iopub.status.busy": "2024-08-14T00:31:31.996248Z",
     "iopub.status.idle": "2024-08-14T00:31:32.002831Z",
     "shell.execute_reply": "2024-08-14T00:31:32.002620Z",
     "shell.execute_reply.started": "2024-08-14T00:31:31.996343Z"
    }
   },
   "outputs": [
    {
     "data": {
      "text/plain": [
       "27"
      ]
     },
     "execution_count": 94,
     "metadata": {},
     "output_type": "execute_result"
    }
   ],
   "source": [
    "await client.hincrby(\"myhash\", \"age\", 2)"
   ]
  },
  {
   "cell_type": "code",
   "execution_count": 95,
   "id": "ab8aeaa9-cb7c-465a-841c-f787495a7be0",
   "metadata": {
    "execution": {
     "iopub.execute_input": "2024-08-14T00:31:32.003420Z",
     "iopub.status.busy": "2024-08-14T00:31:32.003277Z",
     "iopub.status.idle": "2024-08-14T00:31:32.009370Z",
     "shell.execute_reply": "2024-08-14T00:31:32.009152Z",
     "shell.execute_reply.started": "2024-08-14T00:31:32.003409Z"
    }
   },
   "outputs": [
    {
     "data": {
      "text/plain": [
       "28.5"
      ]
     },
     "execution_count": 95,
     "metadata": {},
     "output_type": "execute_result"
    }
   ],
   "source": [
    "await client.hincrbyfloat(\"myhash\", \"age\", 1.5)"
   ]
  },
  {
   "cell_type": "code",
   "execution_count": 96,
   "id": "beffaf3a-0df2-4da9-b664-5ce891ac9d98",
   "metadata": {
    "execution": {
     "iopub.execute_input": "2024-08-14T00:31:32.009887Z",
     "iopub.status.busy": "2024-08-14T00:31:32.009766Z",
     "iopub.status.idle": "2024-08-14T00:31:32.017234Z",
     "shell.execute_reply": "2024-08-14T00:31:32.017009Z",
     "shell.execute_reply.started": "2024-08-14T00:31:32.009876Z"
    }
   },
   "outputs": [
    {
     "data": {
      "text/plain": [
       "1"
      ]
     },
     "execution_count": 96,
     "metadata": {},
     "output_type": "execute_result"
    }
   ],
   "source": [
    "await client.hdel(\"myhash\", \"age\")"
   ]
  },
  {
   "cell_type": "code",
   "execution_count": 97,
   "id": "4843e101-dbd7-430d-ad51-409467b9550b",
   "metadata": {
    "execution": {
     "iopub.execute_input": "2024-08-14T00:31:32.017880Z",
     "iopub.status.busy": "2024-08-14T00:31:32.017665Z",
     "iopub.status.idle": "2024-08-14T00:31:32.023598Z",
     "shell.execute_reply": "2024-08-14T00:31:32.023381Z",
     "shell.execute_reply.started": "2024-08-14T00:31:32.017871Z"
    }
   },
   "outputs": [
    {
     "data": {
      "text/plain": [
       "5"
      ]
     },
     "execution_count": 97,
     "metadata": {},
     "output_type": "execute_result"
    }
   ],
   "source": [
    "await client.hstrlen(\"myhash\", \"name\")"
   ]
  },
  {
   "cell_type": "code",
   "execution_count": 98,
   "id": "c83e5fb3-2642-46c3-a69b-1c857bb0a6ad",
   "metadata": {
    "execution": {
     "iopub.execute_input": "2024-08-14T00:31:32.024018Z",
     "iopub.status.busy": "2024-08-14T00:31:32.023928Z",
     "iopub.status.idle": "2024-08-14T00:31:32.029924Z",
     "shell.execute_reply": "2024-08-14T00:31:32.029693Z",
     "shell.execute_reply.started": "2024-08-14T00:31:32.024010Z"
    }
   },
   "outputs": [
    {
     "data": {
      "text/plain": [
       "0"
      ]
     },
     "execution_count": 98,
     "metadata": {},
     "output_type": "execute_result"
    }
   ],
   "source": [
    "await client.hsetnx(\"myhash\", \"name\", \"wont add\")"
   ]
  },
  {
   "cell_type": "code",
   "execution_count": 99,
   "id": "7d8d6de7-5769-4c38-8085-3a9a405d2165",
   "metadata": {
    "execution": {
     "iopub.execute_input": "2024-08-14T00:31:32.030347Z",
     "iopub.status.busy": "2024-08-14T00:31:32.030262Z",
     "iopub.status.idle": "2024-08-14T00:31:32.037712Z",
     "shell.execute_reply": "2024-08-14T00:31:32.037479Z",
     "shell.execute_reply.started": "2024-08-14T00:31:32.030338Z"
    }
   },
   "outputs": [
    {
     "data": {
      "text/plain": [
       "1"
      ]
     },
     "execution_count": 99,
     "metadata": {},
     "output_type": "execute_result"
    }
   ],
   "source": [
    "await client.hsetnx(\"myhash\", \"last_name\", \"will add\")"
   ]
  },
  {
   "cell_type": "markdown",
   "id": "4e62f914-8faa-4765-a982-c4853c586632",
   "metadata": {
    "execution": {
     "iopub.execute_input": "2024-08-13T13:49:16.493038Z",
     "iopub.status.busy": "2024-08-13T13:49:16.492578Z",
     "iopub.status.idle": "2024-08-13T13:49:16.512453Z",
     "shell.execute_reply": "2024-08-13T13:49:16.511717Z",
     "shell.execute_reply.started": "2024-08-13T13:49:16.493010Z"
    }
   },
   "source": [
    "# transactions"
   ]
  },
  {
   "cell_type": "code",
   "execution_count": 100,
   "id": "40e100a8-c913-4fd3-ab0d-a4a8c8bdc8e5",
   "metadata": {
    "execution": {
     "iopub.execute_input": "2024-08-14T00:31:32.038236Z",
     "iopub.status.busy": "2024-08-14T00:31:32.038127Z",
     "iopub.status.idle": "2024-08-14T00:31:32.047998Z",
     "shell.execute_reply": "2024-08-14T00:31:32.047780Z",
     "shell.execute_reply.started": "2024-08-14T00:31:32.038225Z"
    }
   },
   "outputs": [
    {
     "data": {
      "text/plain": [
       "<redis.asyncio.client.Pipeline(<redis.asyncio.connection.ConnectionPool(<redis.asyncio.connection.Connection(host=localhost,port=6379,db=0)>)>)>"
      ]
     },
     "execution_count": 100,
     "metadata": {},
     "output_type": "execute_result"
    },
    {
     "data": {
      "text/plain": [
       "<redis.asyncio.client.Pipeline(<redis.asyncio.connection.ConnectionPool(<redis.asyncio.connection.Connection(host=localhost,port=6379,db=0)>)>)>"
      ]
     },
     "execution_count": 100,
     "metadata": {},
     "output_type": "execute_result"
    },
    {
     "data": {
      "text/plain": [
       "<redis.asyncio.client.Pipeline(<redis.asyncio.connection.ConnectionPool(<redis.asyncio.connection.Connection(host=localhost,port=6379,db=0)>)>)>"
      ]
     },
     "execution_count": 100,
     "metadata": {},
     "output_type": "execute_result"
    },
    {
     "data": {
      "text/plain": [
       "<redis.asyncio.client.Pipeline(<redis.asyncio.connection.ConnectionPool(<redis.asyncio.connection.Connection(host=localhost,port=6379,db=0)>)>)>"
      ]
     },
     "execution_count": 100,
     "metadata": {},
     "output_type": "execute_result"
    },
    {
     "data": {
      "text/plain": [
       "[True, b'derek', True, True]"
      ]
     },
     "execution_count": 100,
     "metadata": {},
     "output_type": "execute_result"
    }
   ],
   "source": [
    "async with client.pipeline() as pipe:\n",
    "    pipe.multi()\n",
    "    pipe.set(\"name\", \"derek\")\n",
    "    pipe.get(\"name\")\n",
    "    pipe.set(\"a\", 1)\n",
    "    pipe.set(\"b\", 2)\n",
    "    await pipe.execute()"
   ]
  },
  {
   "cell_type": "markdown",
   "id": "2fbadaa9-e167-4195-8e6b-d90f6af3417f",
   "metadata": {},
   "source": [
    "# pubsub"
   ]
  },
  {
   "cell_type": "code",
   "execution_count": 101,
   "id": "6cb19d84-ed65-4b5d-a9b9-0735465f674a",
   "metadata": {
    "execution": {
     "iopub.execute_input": "2024-08-14T00:31:32.048547Z",
     "iopub.status.busy": "2024-08-14T00:31:32.048433Z",
     "iopub.status.idle": "2024-08-14T00:31:32.054750Z",
     "shell.execute_reply": "2024-08-14T00:31:32.054398Z",
     "shell.execute_reply.started": "2024-08-14T00:31:32.048539Z"
    }
   },
   "outputs": [
    {
     "data": {
      "text/plain": [
       "2"
      ]
     },
     "execution_count": 101,
     "metadata": {},
     "output_type": "execute_result"
    }
   ],
   "source": [
    "await client.publish(\"news\", \"new breaking news\")"
   ]
  },
  {
   "cell_type": "code",
   "execution_count": 102,
   "id": "2d5685a5-7e34-498f-a9dd-697122e06e96",
   "metadata": {
    "execution": {
     "iopub.execute_input": "2024-08-14T00:31:32.055375Z",
     "iopub.status.busy": "2024-08-14T00:31:32.055237Z",
     "iopub.status.idle": "2024-08-14T00:31:32.063190Z",
     "shell.execute_reply": "2024-08-14T00:31:32.062941Z",
     "shell.execute_reply.started": "2024-08-14T00:31:32.055366Z"
    }
   },
   "outputs": [
    {
     "data": {
      "text/plain": [
       "2"
      ]
     },
     "execution_count": 102,
     "metadata": {},
     "output_type": "execute_result"
    }
   ],
   "source": [
    "await client.publish(\"news\", \"new breaking news!!!\")"
   ]
  },
  {
   "cell_type": "markdown",
   "id": "08235b62-afc7-4922-83c0-ab5d2940418f",
   "metadata": {},
   "source": [
    "# scripts"
   ]
  },
  {
   "cell_type": "code",
   "execution_count": 103,
   "id": "81caa543-4f3e-402d-b411-fcfa1bd7c46f",
   "metadata": {
    "execution": {
     "iopub.execute_input": "2024-08-14T00:31:32.063718Z",
     "iopub.status.busy": "2024-08-14T00:31:32.063626Z",
     "iopub.status.idle": "2024-08-14T00:31:32.069708Z",
     "shell.execute_reply": "2024-08-14T00:31:32.069486Z",
     "shell.execute_reply.started": "2024-08-14T00:31:32.063710Z"
    }
   },
   "outputs": [],
   "source": [
    "await client.eval(\"redis.call('set', KEYS[1], ARGV[1])\", 1, \"name_scr\", \"derek\")"
   ]
  },
  {
   "cell_type": "code",
   "execution_count": 104,
   "id": "91ade920-a646-407a-a3f7-20d5fe3f7f53",
   "metadata": {
    "execution": {
     "iopub.execute_input": "2024-08-14T00:31:32.070222Z",
     "iopub.status.busy": "2024-08-14T00:31:32.070121Z",
     "iopub.status.idle": "2024-08-14T00:31:32.077237Z",
     "shell.execute_reply": "2024-08-14T00:31:32.076999Z",
     "shell.execute_reply.started": "2024-08-14T00:31:32.070213Z"
    }
   },
   "outputs": [
    {
     "data": {
      "text/plain": [
       "b'derek'"
      ]
     },
     "execution_count": 104,
     "metadata": {},
     "output_type": "execute_result"
    }
   ],
   "source": [
    "await client.get(\"name_scr\")"
   ]
  },
  {
   "cell_type": "code",
   "execution_count": 105,
   "id": "3ae3e951-4320-4dd9-9c87-5af0c1ebccad",
   "metadata": {
    "execution": {
     "iopub.execute_input": "2024-08-14T00:31:32.077743Z",
     "iopub.status.busy": "2024-08-14T00:31:32.077646Z",
     "iopub.status.idle": "2024-08-14T00:31:32.083956Z",
     "shell.execute_reply": "2024-08-14T00:31:32.083675Z",
     "shell.execute_reply.started": "2024-08-14T00:31:32.077735Z"
    }
   },
   "outputs": [],
   "source": [
    "await client.eval(\"redis.call('set', KEYS[1], ARGV[1])\", 1, \"name_scr\", \"derek\")"
   ]
  },
  {
   "cell_type": "code",
   "execution_count": 106,
   "id": "0a1baeb3-db7e-4b98-9757-61085e0db642",
   "metadata": {
    "execution": {
     "iopub.execute_input": "2024-08-14T00:31:32.084509Z",
     "iopub.status.busy": "2024-08-14T00:31:32.084381Z",
     "iopub.status.idle": "2024-08-14T00:31:32.090446Z",
     "shell.execute_reply": "2024-08-14T00:31:32.090230Z",
     "shell.execute_reply.started": "2024-08-14T00:31:32.084500Z"
    }
   },
   "outputs": [],
   "source": [
    "await client.eval(\n",
    "    \"redis.call('mset', KEYS[1], ARGV[1], KEYS[2], ARGV[2])\",\n",
    "    2,\n",
    "    \"name_scr\",\n",
    "    \"last_name_scr\",\n",
    "    \"derek\",\n",
    "    \"wan\",\n",
    ")"
   ]
  },
  {
   "cell_type": "code",
   "execution_count": 107,
   "id": "ecced349-bce6-41c8-8547-ed1b52ea3e57",
   "metadata": {
    "execution": {
     "iopub.execute_input": "2024-08-14T00:31:32.090884Z",
     "iopub.status.busy": "2024-08-14T00:31:32.090811Z",
     "iopub.status.idle": "2024-08-14T00:31:32.097057Z",
     "shell.execute_reply": "2024-08-14T00:31:32.096805Z",
     "shell.execute_reply.started": "2024-08-14T00:31:32.090876Z"
    }
   },
   "outputs": [
    {
     "data": {
      "text/plain": [
       "b'wan'"
      ]
     },
     "execution_count": 107,
     "metadata": {},
     "output_type": "execute_result"
    }
   ],
   "source": [
    "await client.get(\"last_name_scr\")"
   ]
  },
  {
   "cell_type": "code",
   "execution_count": 108,
   "id": "c7938da6-96fd-44b9-9f2b-5b1305b75717",
   "metadata": {
    "execution": {
     "iopub.execute_input": "2024-08-14T00:31:32.097631Z",
     "iopub.status.busy": "2024-08-14T00:31:32.097505Z",
     "iopub.status.idle": "2024-08-14T00:31:32.105199Z",
     "shell.execute_reply": "2024-08-14T00:31:32.104966Z",
     "shell.execute_reply.started": "2024-08-14T00:31:32.097620Z"
    }
   },
   "outputs": [
    {
     "data": {
      "text/plain": [
       "3"
      ]
     },
     "execution_count": 108,
     "metadata": {},
     "output_type": "execute_result"
    }
   ],
   "source": [
    "await client.zadd(\"country2\", {\"italy\": 1, \"india\": 2, \"usa\": 3})"
   ]
  },
  {
   "cell_type": "code",
   "execution_count": 109,
   "id": "0dcb2b5c-e5d3-4e73-b223-98050b7fee5e",
   "metadata": {
    "execution": {
     "iopub.execute_input": "2024-08-14T00:31:32.105817Z",
     "iopub.status.busy": "2024-08-14T00:31:32.105681Z",
     "iopub.status.idle": "2024-08-14T00:31:32.111838Z",
     "shell.execute_reply": "2024-08-14T00:31:32.111590Z",
     "shell.execute_reply.started": "2024-08-14T00:31:32.105804Z"
    }
   },
   "outputs": [
    {
     "data": {
      "text/plain": [
       "[b'italy', b'india', b'usa']"
      ]
     },
     "execution_count": 109,
     "metadata": {},
     "output_type": "execute_result"
    }
   ],
   "source": [
    "await client.zrange(\"country2\", 0, -1)"
   ]
  },
  {
   "cell_type": "code",
   "execution_count": 110,
   "id": "7fdb373e-085b-49b8-8e8d-a48edec1636e",
   "metadata": {
    "execution": {
     "iopub.execute_input": "2024-08-14T00:31:32.112368Z",
     "iopub.status.busy": "2024-08-14T00:31:32.112262Z",
     "iopub.status.idle": "2024-08-14T00:31:32.118664Z",
     "shell.execute_reply": "2024-08-14T00:31:32.118430Z",
     "shell.execute_reply.started": "2024-08-14T00:31:32.112360Z"
    }
   },
   "outputs": [
    {
     "data": {
      "text/plain": [
       "6"
      ]
     },
     "execution_count": 110,
     "metadata": {},
     "output_type": "execute_result"
    }
   ],
   "source": [
    "await client.hset(\n",
    "    \"country_cap\",\n",
    "    mapping={\n",
    "        \"india\": \"new delhi\",\n",
    "        \"usa\": \"washington\",\n",
    "        \"russia\": \"moscow\",\n",
    "        \"germany\": \"berlin\",\n",
    "        \"japan\": \"tokyo\",\n",
    "        \"italy\": \"rome\",\n",
    "    },\n",
    ")"
   ]
  },
  {
   "cell_type": "code",
   "execution_count": 111,
   "id": "63906a74-96ce-4376-b79d-146098f40ddb",
   "metadata": {
    "execution": {
     "iopub.execute_input": "2024-08-14T00:31:32.119196Z",
     "iopub.status.busy": "2024-08-14T00:31:32.119072Z",
     "iopub.status.idle": "2024-08-14T00:31:32.125063Z",
     "shell.execute_reply": "2024-08-14T00:31:32.124787Z",
     "shell.execute_reply.started": "2024-08-14T00:31:32.119187Z"
    }
   },
   "outputs": [
    {
     "data": {
      "text/plain": [
       "[b'rome', b'new delhi', b'washington']"
      ]
     },
     "execution_count": 111,
     "metadata": {},
     "output_type": "execute_result"
    }
   ],
   "source": [
    "await client.eval(\n",
    "    \"local order = redis.call('zrange', KEYS[1], 0, -1); return redis.call('hmget', KEYS[2], unpack(order));\",\n",
    "    2,\n",
    "    \"country2\",\n",
    "    \"country_cap\",\n",
    ")"
   ]
  },
  {
   "cell_type": "code",
   "execution_count": 112,
   "id": "d04598e3-b934-4879-9038-3cdce5321dd9",
   "metadata": {
    "execution": {
     "iopub.execute_input": "2024-08-14T00:31:32.125551Z",
     "iopub.status.busy": "2024-08-14T00:31:32.125471Z",
     "iopub.status.idle": "2024-08-14T00:31:32.133025Z",
     "shell.execute_reply": "2024-08-14T00:31:32.132822Z",
     "shell.execute_reply.started": "2024-08-14T00:31:32.125544Z"
    }
   },
   "outputs": [
    {
     "data": {
      "text/plain": [
       "'1807412636f2f95da7f3cdf6cb3bb0249e2587c7'"
      ]
     },
     "execution_count": 112,
     "metadata": {},
     "output_type": "execute_result"
    }
   ],
   "source": [
    "sha = await client.script_load(\n",
    "    \"local order = redis.call('zrange', KEYS[1], 0, -1); return redis.call('hmget', KEYS[2], unpack(order));\",\n",
    ")\n",
    "sha"
   ]
  },
  {
   "cell_type": "code",
   "execution_count": 113,
   "id": "62ac868e-3caf-4ec9-9481-739fe279bf40",
   "metadata": {
    "execution": {
     "iopub.execute_input": "2024-08-14T00:31:32.133509Z",
     "iopub.status.busy": "2024-08-14T00:31:32.133424Z",
     "iopub.status.idle": "2024-08-14T00:31:32.140240Z",
     "shell.execute_reply": "2024-08-14T00:31:32.140026Z",
     "shell.execute_reply.started": "2024-08-14T00:31:32.133501Z"
    }
   },
   "outputs": [
    {
     "data": {
      "text/plain": [
       "[b'rome', b'new delhi', b'washington']"
      ]
     },
     "execution_count": 113,
     "metadata": {},
     "output_type": "execute_result"
    }
   ],
   "source": [
    "await client.evalsha(sha, 2, \"country2\", \"country_cap\")"
   ]
  },
  {
   "cell_type": "code",
   "execution_count": 114,
   "id": "ae463402-7ee5-404c-b0ba-bdeb5a76cc53",
   "metadata": {
    "execution": {
     "iopub.execute_input": "2024-08-14T00:31:32.140661Z",
     "iopub.status.busy": "2024-08-14T00:31:32.140579Z",
     "iopub.status.idle": "2024-08-14T00:31:32.146854Z",
     "shell.execute_reply": "2024-08-14T00:31:32.146623Z",
     "shell.execute_reply.started": "2024-08-14T00:31:32.140653Z"
    }
   },
   "outputs": [
    {
     "data": {
      "text/plain": [
       "[True]"
      ]
     },
     "execution_count": 114,
     "metadata": {},
     "output_type": "execute_result"
    }
   ],
   "source": [
    "await client.script_exists(sha)"
   ]
  },
  {
   "cell_type": "code",
   "execution_count": 115,
   "id": "0b42f035-c532-41aa-a404-cde171012c50",
   "metadata": {
    "execution": {
     "iopub.execute_input": "2024-08-14T00:31:32.147346Z",
     "iopub.status.busy": "2024-08-14T00:31:32.147264Z",
     "iopub.status.idle": "2024-08-14T00:31:32.153617Z",
     "shell.execute_reply": "2024-08-14T00:31:32.153383Z",
     "shell.execute_reply.started": "2024-08-14T00:31:32.147338Z"
    }
   },
   "outputs": [
    {
     "data": {
      "text/plain": [
       "True"
      ]
     },
     "execution_count": 115,
     "metadata": {},
     "output_type": "execute_result"
    }
   ],
   "source": [
    "await client.script_flush()"
   ]
  },
  {
   "cell_type": "code",
   "execution_count": 116,
   "id": "b063eddd-a0fa-49bb-ae19-dd35c743a073",
   "metadata": {
    "execution": {
     "iopub.execute_input": "2024-08-14T00:31:32.154085Z",
     "iopub.status.busy": "2024-08-14T00:31:32.153993Z",
     "iopub.status.idle": "2024-08-14T00:31:32.161294Z",
     "shell.execute_reply": "2024-08-14T00:31:32.161074Z",
     "shell.execute_reply.started": "2024-08-14T00:31:32.154077Z"
    }
   },
   "outputs": [
    {
     "data": {
      "text/plain": [
       "[False]"
      ]
     },
     "execution_count": 116,
     "metadata": {},
     "output_type": "execute_result"
    }
   ],
   "source": [
    "await client.script_exists(sha)"
   ]
  },
  {
   "cell_type": "markdown",
   "id": "f049675c-6097-4cd3-91f3-7cd0e4e0795b",
   "metadata": {},
   "source": [
    "# connection & security"
   ]
  },
  {
   "cell_type": "code",
   "execution_count": 117,
   "id": "8dd9395a-e5a5-4288-8e3e-e7fdff7e6d1f",
   "metadata": {
    "execution": {
     "iopub.execute_input": "2024-08-14T00:31:32.161924Z",
     "iopub.status.busy": "2024-08-14T00:31:32.161721Z",
     "iopub.status.idle": "2024-08-14T00:31:32.168671Z",
     "shell.execute_reply": "2024-08-14T00:31:32.168458Z",
     "shell.execute_reply.started": "2024-08-14T00:31:32.161914Z"
    }
   },
   "outputs": [
    {
     "data": {
      "text/plain": [
       "True"
      ]
     },
     "execution_count": 117,
     "metadata": {},
     "output_type": "execute_result"
    }
   ],
   "source": [
    "await client.ping()"
   ]
  },
  {
   "cell_type": "code",
   "execution_count": 118,
   "id": "0ad3da52-0f30-46fd-8235-b4601ae4215b",
   "metadata": {
    "execution": {
     "iopub.execute_input": "2024-08-14T00:31:32.169216Z",
     "iopub.status.busy": "2024-08-14T00:31:32.169110Z",
     "iopub.status.idle": "2024-08-14T00:31:32.175215Z",
     "shell.execute_reply": "2024-08-14T00:31:32.174971Z",
     "shell.execute_reply.started": "2024-08-14T00:31:32.169209Z"
    }
   },
   "outputs": [
    {
     "data": {
      "text/plain": [
       "b'message'"
      ]
     },
     "execution_count": 118,
     "metadata": {},
     "output_type": "execute_result"
    }
   ],
   "source": [
    "await client.echo(\"message\")"
   ]
  },
  {
   "cell_type": "code",
   "execution_count": 119,
   "id": "7fb026d5-59d2-40a4-ba8a-7a1441edf8a2",
   "metadata": {
    "execution": {
     "iopub.execute_input": "2024-08-14T00:31:32.175740Z",
     "iopub.status.busy": "2024-08-14T00:31:32.175654Z",
     "iopub.status.idle": "2024-08-14T00:31:32.182594Z",
     "shell.execute_reply": "2024-08-14T00:31:32.182368Z",
     "shell.execute_reply.started": "2024-08-14T00:31:32.175733Z"
    }
   },
   "outputs": [
    {
     "data": {
      "text/plain": [
       "True"
      ]
     },
     "execution_count": 119,
     "metadata": {},
     "output_type": "execute_result"
    }
   ],
   "source": [
    "await client.select(0)"
   ]
  },
  {
   "cell_type": "code",
   "execution_count": 120,
   "id": "87a4a855-bbe5-42b1-8d28-0b06ac1c15fa",
   "metadata": {
    "execution": {
     "iopub.execute_input": "2024-08-14T00:31:32.183117Z",
     "iopub.status.busy": "2024-08-14T00:31:32.183028Z",
     "iopub.status.idle": "2024-08-14T00:31:32.189848Z",
     "shell.execute_reply": "2024-08-14T00:31:32.189613Z",
     "shell.execute_reply.started": "2024-08-14T00:31:32.183108Z"
    }
   },
   "outputs": [
    {
     "data": {
      "text/plain": [
       "True"
      ]
     },
     "execution_count": 120,
     "metadata": {},
     "output_type": "execute_result"
    }
   ],
   "source": [
    "await client.select(1)"
   ]
  },
  {
   "cell_type": "code",
   "execution_count": 121,
   "id": "521fb738-9513-43dc-b284-d58df9017571",
   "metadata": {
    "execution": {
     "iopub.execute_input": "2024-08-14T00:31:32.190420Z",
     "iopub.status.busy": "2024-08-14T00:31:32.190333Z",
     "iopub.status.idle": "2024-08-14T00:31:32.196749Z",
     "shell.execute_reply": "2024-08-14T00:31:32.196543Z",
     "shell.execute_reply.started": "2024-08-14T00:31:32.190411Z"
    }
   },
   "outputs": [
    {
     "data": {
      "text/plain": [
       "True"
      ]
     },
     "execution_count": 121,
     "metadata": {},
     "output_type": "execute_result"
    }
   ],
   "source": [
    "await client.select(0)"
   ]
  },
  {
   "cell_type": "code",
   "execution_count": 122,
   "id": "bc2ca540-09ff-4e10-acad-882ff573b32b",
   "metadata": {
    "execution": {
     "iopub.execute_input": "2024-08-14T00:31:32.197245Z",
     "iopub.status.busy": "2024-08-14T00:31:32.197148Z",
     "iopub.status.idle": "2024-08-14T00:31:32.203831Z",
     "shell.execute_reply": "2024-08-14T00:31:32.203596Z",
     "shell.execute_reply.started": "2024-08-14T00:31:32.197237Z"
    }
   },
   "outputs": [
    {
     "data": {
      "text/plain": [
       "True"
      ]
     },
     "execution_count": 122,
     "metadata": {},
     "output_type": "execute_result"
    }
   ],
   "source": [
    "await client.set(\"name\", \"derek\")"
   ]
  },
  {
   "cell_type": "code",
   "execution_count": 123,
   "id": "b0778984-71f8-416d-be24-2c7aac7cc847",
   "metadata": {
    "execution": {
     "iopub.execute_input": "2024-08-14T00:31:32.204370Z",
     "iopub.status.busy": "2024-08-14T00:31:32.204273Z",
     "iopub.status.idle": "2024-08-14T00:31:32.211882Z",
     "shell.execute_reply": "2024-08-14T00:31:32.211652Z",
     "shell.execute_reply.started": "2024-08-14T00:31:32.204362Z"
    }
   },
   "outputs": [
    {
     "data": {
      "text/plain": [
       "True"
      ]
     },
     "execution_count": 123,
     "metadata": {},
     "output_type": "execute_result"
    }
   ],
   "source": [
    "await client.select(1)"
   ]
  },
  {
   "cell_type": "code",
   "execution_count": 124,
   "id": "6014da0a-6db9-4cf8-8b57-54c5e99785b5",
   "metadata": {
    "execution": {
     "iopub.execute_input": "2024-08-14T00:31:32.212428Z",
     "iopub.status.busy": "2024-08-14T00:31:32.212306Z",
     "iopub.status.idle": "2024-08-14T00:31:32.218321Z",
     "shell.execute_reply": "2024-08-14T00:31:32.218091Z",
     "shell.execute_reply.started": "2024-08-14T00:31:32.212415Z"
    }
   },
   "outputs": [],
   "source": [
    "await client.get(\"name\")"
   ]
  },
  {
   "cell_type": "code",
   "execution_count": 125,
   "id": "42870eb3-ee53-43a1-ab8e-47cbb15c0174",
   "metadata": {
    "execution": {
     "iopub.execute_input": "2024-08-14T00:31:32.218746Z",
     "iopub.status.busy": "2024-08-14T00:31:32.218651Z",
     "iopub.status.idle": "2024-08-14T00:31:32.225698Z",
     "shell.execute_reply": "2024-08-14T00:31:32.225359Z",
     "shell.execute_reply.started": "2024-08-14T00:31:32.218737Z"
    }
   },
   "outputs": [
    {
     "data": {
      "text/plain": [
       "True"
      ]
     },
     "execution_count": 125,
     "metadata": {},
     "output_type": "execute_result"
    }
   ],
   "source": [
    "await client.select(0)"
   ]
  },
  {
   "cell_type": "code",
   "execution_count": 126,
   "id": "a2d17877-45e3-4aec-9dfa-579ec433dc86",
   "metadata": {
    "execution": {
     "iopub.execute_input": "2024-08-14T00:31:32.226223Z",
     "iopub.status.busy": "2024-08-14T00:31:32.226142Z",
     "iopub.status.idle": "2024-08-14T00:31:32.233894Z",
     "shell.execute_reply": "2024-08-14T00:31:32.233579Z",
     "shell.execute_reply.started": "2024-08-14T00:31:32.226215Z"
    }
   },
   "outputs": [
    {
     "data": {
      "text/plain": [
       "[{'id': '45',\n",
       "  'addr': '[::1]:53933',\n",
       "  'laddr': '[::1]:6379',\n",
       "  'fd': '12',\n",
       "  'name': '',\n",
       "  'age': '37385',\n",
       "  'idle': '0',\n",
       "  'flags': 'P',\n",
       "  'db': '0',\n",
       "  'sub': '2',\n",
       "  'psub': '0',\n",
       "  'ssub': '0',\n",
       "  'multi': '-1',\n",
       "  'qbuf': '0',\n",
       "  'qbuf-free': '0',\n",
       "  'argv-mem': '0',\n",
       "  'multi-mem': '0',\n",
       "  'rbs': '1024',\n",
       "  'rbp': '54',\n",
       "  'obl': '0',\n",
       "  'oll': '0',\n",
       "  'omem': '0',\n",
       "  'tot-mem': '1904',\n",
       "  'events': 'r',\n",
       "  'cmd': 'subscribe',\n",
       "  'user': 'default',\n",
       "  'redir': '-1',\n",
       "  'resp': '2',\n",
       "  'lib-name': 'redis-py',\n",
       "  'lib-ver': '5.0.8'},\n",
       " {'id': '47',\n",
       "  'addr': '[::1]:54128',\n",
       "  'laddr': '[::1]:6379',\n",
       "  'fd': '11',\n",
       "  'name': '',\n",
       "  'age': '37175',\n",
       "  'idle': '0',\n",
       "  'flags': 'P',\n",
       "  'db': '0',\n",
       "  'sub': '1',\n",
       "  'psub': '0',\n",
       "  'ssub': '0',\n",
       "  'multi': '-1',\n",
       "  'qbuf': '0',\n",
       "  'qbuf-free': '0',\n",
       "  'argv-mem': '0',\n",
       "  'multi-mem': '0',\n",
       "  'rbs': '1024',\n",
       "  'rbp': '54',\n",
       "  'obl': '0',\n",
       "  'oll': '0',\n",
       "  'omem': '0',\n",
       "  'tot-mem': '1880',\n",
       "  'events': 'r',\n",
       "  'cmd': 'subscribe',\n",
       "  'user': 'default',\n",
       "  'redir': '-1',\n",
       "  'resp': '2',\n",
       "  'lib-name': 'redis-py',\n",
       "  'lib-ver': '5.0.8'},\n",
       " {'id': '48',\n",
       "  'addr': '127.0.0.1:63923',\n",
       "  'laddr': '127.0.0.1:6379',\n",
       "  'fd': '9',\n",
       "  'name': 'redisinsight-common-3b992f02',\n",
       "  'age': '5284',\n",
       "  'idle': '4',\n",
       "  'flags': 'N',\n",
       "  'db': '0',\n",
       "  'sub': '0',\n",
       "  'psub': '0',\n",
       "  'ssub': '0',\n",
       "  'multi': '-1',\n",
       "  'qbuf': '0',\n",
       "  'qbuf-free': '0',\n",
       "  'argv-mem': '0',\n",
       "  'multi-mem': '0',\n",
       "  'rbs': '2048',\n",
       "  'rbp': '1024',\n",
       "  'obl': '0',\n",
       "  'oll': '0',\n",
       "  'omem': '0',\n",
       "  'tot-mem': '2848',\n",
       "  'events': 'r',\n",
       "  'cmd': 'info',\n",
       "  'user': 'default',\n",
       "  'redir': '-1',\n",
       "  'resp': '2',\n",
       "  'lib-name': '',\n",
       "  'lib-ver': ''},\n",
       " {'id': '79',\n",
       "  'addr': '[::1]:53113',\n",
       "  'laddr': '[::1]:6379',\n",
       "  'fd': '8',\n",
       "  'name': '',\n",
       "  'age': '2',\n",
       "  'idle': '0',\n",
       "  'flags': 'N',\n",
       "  'db': '0',\n",
       "  'sub': '0',\n",
       "  'psub': '0',\n",
       "  'ssub': '0',\n",
       "  'multi': '-1',\n",
       "  'qbuf': '26',\n",
       "  'qbuf-free': '16864',\n",
       "  'argv-mem': '10',\n",
       "  'multi-mem': '0',\n",
       "  'rbs': '1024',\n",
       "  'rbp': '95',\n",
       "  'obl': '0',\n",
       "  'oll': '0',\n",
       "  'omem': '0',\n",
       "  'tot-mem': '18730',\n",
       "  'events': 'r',\n",
       "  'cmd': 'client|list',\n",
       "  'user': 'default',\n",
       "  'redir': '-1',\n",
       "  'resp': '2',\n",
       "  'lib-name': 'redis-py',\n",
       "  'lib-ver': '5.0.8'}]"
      ]
     },
     "execution_count": 126,
     "metadata": {},
     "output_type": "execute_result"
    }
   ],
   "source": [
    "await client.client_list()"
   ]
  },
  {
   "cell_type": "code",
   "execution_count": 127,
   "id": "af1a1b9c-87e5-44ad-9f00-df7377970d73",
   "metadata": {
    "execution": {
     "iopub.execute_input": "2024-08-14T00:31:32.234496Z",
     "iopub.status.busy": "2024-08-14T00:31:32.234410Z",
     "iopub.status.idle": "2024-08-14T00:31:32.241235Z",
     "shell.execute_reply": "2024-08-14T00:31:32.241005Z",
     "shell.execute_reply.started": "2024-08-14T00:31:32.234487Z"
    }
   },
   "outputs": [
    {
     "data": {
      "text/plain": [
       "True"
      ]
     },
     "execution_count": 127,
     "metadata": {},
     "output_type": "execute_result"
    }
   ],
   "source": [
    "await client.client_setname(\"this_terminal\")"
   ]
  },
  {
   "cell_type": "code",
   "execution_count": 128,
   "id": "6de0d93f-e27c-4156-8743-d87b218e5226",
   "metadata": {
    "execution": {
     "iopub.execute_input": "2024-08-14T00:31:32.241784Z",
     "iopub.status.busy": "2024-08-14T00:31:32.241666Z",
     "iopub.status.idle": "2024-08-14T00:31:32.248245Z",
     "shell.execute_reply": "2024-08-14T00:31:32.248020Z",
     "shell.execute_reply.started": "2024-08-14T00:31:32.241775Z"
    }
   },
   "outputs": [
    {
     "data": {
      "text/plain": [
       "'this_terminal'"
      ]
     },
     "execution_count": 128,
     "metadata": {},
     "output_type": "execute_result"
    }
   ],
   "source": [
    "await client.client_getname()"
   ]
  },
  {
   "cell_type": "code",
   "execution_count": 129,
   "id": "ea87ee44-6812-4476-a3bf-ea9afba595eb",
   "metadata": {
    "execution": {
     "iopub.execute_input": "2024-08-14T00:31:32.248735Z",
     "iopub.status.busy": "2024-08-14T00:31:32.248661Z",
     "iopub.status.idle": "2024-08-14T00:31:32.256019Z",
     "shell.execute_reply": "2024-08-14T00:31:32.255685Z",
     "shell.execute_reply.started": "2024-08-14T00:31:32.248728Z"
    }
   },
   "outputs": [
    {
     "data": {
      "text/plain": [
       "[{'id': '45',\n",
       "  'addr': '[::1]:53933',\n",
       "  'laddr': '[::1]:6379',\n",
       "  'fd': '12',\n",
       "  'name': '',\n",
       "  'age': '37385',\n",
       "  'idle': '0',\n",
       "  'flags': 'P',\n",
       "  'db': '0',\n",
       "  'sub': '2',\n",
       "  'psub': '0',\n",
       "  'ssub': '0',\n",
       "  'multi': '-1',\n",
       "  'qbuf': '0',\n",
       "  'qbuf-free': '0',\n",
       "  'argv-mem': '0',\n",
       "  'multi-mem': '0',\n",
       "  'rbs': '1024',\n",
       "  'rbp': '54',\n",
       "  'obl': '0',\n",
       "  'oll': '0',\n",
       "  'omem': '0',\n",
       "  'tot-mem': '1904',\n",
       "  'events': 'r',\n",
       "  'cmd': 'subscribe',\n",
       "  'user': 'default',\n",
       "  'redir': '-1',\n",
       "  'resp': '2',\n",
       "  'lib-name': 'redis-py',\n",
       "  'lib-ver': '5.0.8'},\n",
       " {'id': '47',\n",
       "  'addr': '[::1]:54128',\n",
       "  'laddr': '[::1]:6379',\n",
       "  'fd': '11',\n",
       "  'name': '',\n",
       "  'age': '37175',\n",
       "  'idle': '0',\n",
       "  'flags': 'P',\n",
       "  'db': '0',\n",
       "  'sub': '1',\n",
       "  'psub': '0',\n",
       "  'ssub': '0',\n",
       "  'multi': '-1',\n",
       "  'qbuf': '0',\n",
       "  'qbuf-free': '0',\n",
       "  'argv-mem': '0',\n",
       "  'multi-mem': '0',\n",
       "  'rbs': '1024',\n",
       "  'rbp': '54',\n",
       "  'obl': '0',\n",
       "  'oll': '0',\n",
       "  'omem': '0',\n",
       "  'tot-mem': '1880',\n",
       "  'events': 'r',\n",
       "  'cmd': 'subscribe',\n",
       "  'user': 'default',\n",
       "  'redir': '-1',\n",
       "  'resp': '2',\n",
       "  'lib-name': 'redis-py',\n",
       "  'lib-ver': '5.0.8'},\n",
       " {'id': '48',\n",
       "  'addr': '127.0.0.1:63923',\n",
       "  'laddr': '127.0.0.1:6379',\n",
       "  'fd': '9',\n",
       "  'name': 'redisinsight-common-3b992f02',\n",
       "  'age': '5284',\n",
       "  'idle': '4',\n",
       "  'flags': 'N',\n",
       "  'db': '0',\n",
       "  'sub': '0',\n",
       "  'psub': '0',\n",
       "  'ssub': '0',\n",
       "  'multi': '-1',\n",
       "  'qbuf': '0',\n",
       "  'qbuf-free': '0',\n",
       "  'argv-mem': '0',\n",
       "  'multi-mem': '0',\n",
       "  'rbs': '2048',\n",
       "  'rbp': '1024',\n",
       "  'obl': '0',\n",
       "  'oll': '0',\n",
       "  'omem': '0',\n",
       "  'tot-mem': '2848',\n",
       "  'events': 'r',\n",
       "  'cmd': 'info',\n",
       "  'user': 'default',\n",
       "  'redir': '-1',\n",
       "  'resp': '2',\n",
       "  'lib-name': '',\n",
       "  'lib-ver': ''},\n",
       " {'id': '79',\n",
       "  'addr': '[::1]:53113',\n",
       "  'laddr': '[::1]:6379',\n",
       "  'fd': '8',\n",
       "  'name': 'this_terminal',\n",
       "  'age': '2',\n",
       "  'idle': '0',\n",
       "  'flags': 'N',\n",
       "  'db': '0',\n",
       "  'sub': '0',\n",
       "  'psub': '0',\n",
       "  'ssub': '0',\n",
       "  'multi': '-1',\n",
       "  'qbuf': '26',\n",
       "  'qbuf-free': '16864',\n",
       "  'argv-mem': '10',\n",
       "  'multi-mem': '0',\n",
       "  'rbs': '1024',\n",
       "  'rbp': '1024',\n",
       "  'obl': '0',\n",
       "  'oll': '0',\n",
       "  'omem': '0',\n",
       "  'tot-mem': '18730',\n",
       "  'events': 'r',\n",
       "  'cmd': 'client|list',\n",
       "  'user': 'default',\n",
       "  'redir': '-1',\n",
       "  'resp': '2',\n",
       "  'lib-name': 'redis-py',\n",
       "  'lib-ver': '5.0.8'}]"
      ]
     },
     "execution_count": 129,
     "metadata": {},
     "output_type": "execute_result"
    }
   ],
   "source": [
    "await client.client_list()"
   ]
  },
  {
   "cell_type": "code",
   "execution_count": 130,
   "id": "c657f437-c383-4428-9788-34971490dbc8",
   "metadata": {
    "execution": {
     "iopub.execute_input": "2024-08-14T00:31:32.256521Z",
     "iopub.status.busy": "2024-08-14T00:31:32.256423Z",
     "iopub.status.idle": "2024-08-14T00:31:32.262739Z",
     "shell.execute_reply": "2024-08-14T00:31:32.262485Z",
     "shell.execute_reply.started": "2024-08-14T00:31:32.256512Z"
    }
   },
   "outputs": [],
   "source": [
    "# await client.client_kill(56)"
   ]
  },
  {
   "cell_type": "code",
   "execution_count": 131,
   "id": "79a65a5f-dc0c-42b6-8694-47a48709ded8",
   "metadata": {
    "execution": {
     "iopub.execute_input": "2024-08-14T00:31:32.263205Z",
     "iopub.status.busy": "2024-08-14T00:31:32.263125Z",
     "iopub.status.idle": "2024-08-14T00:31:32.271103Z",
     "shell.execute_reply": "2024-08-14T00:31:32.270770Z",
     "shell.execute_reply.started": "2024-08-14T00:31:32.263197Z"
    }
   },
   "outputs": [
    {
     "data": {
      "text/plain": [
       "True"
      ]
     },
     "execution_count": 131,
     "metadata": {},
     "output_type": "execute_result"
    }
   ],
   "source": [
    "await client.config_set(\"requirepass\", \"derek\")"
   ]
  },
  {
   "cell_type": "code",
   "execution_count": 132,
   "id": "2ece011d-f7b2-4ac3-ae4d-f6a3dee32c20",
   "metadata": {
    "execution": {
     "iopub.execute_input": "2024-08-14T00:31:32.271698Z",
     "iopub.status.busy": "2024-08-14T00:31:32.271605Z",
     "iopub.status.idle": "2024-08-14T00:31:32.278313Z",
     "shell.execute_reply": "2024-08-14T00:31:32.278060Z",
     "shell.execute_reply.started": "2024-08-14T00:31:32.271690Z"
    }
   },
   "outputs": [
    {
     "data": {
      "text/plain": [
       "b'derek'"
      ]
     },
     "execution_count": 132,
     "metadata": {},
     "output_type": "execute_result"
    }
   ],
   "source": [
    "await client.get(\"name\")"
   ]
  },
  {
   "cell_type": "code",
   "execution_count": 133,
   "id": "bb9254ff-ce4c-4632-b563-c17a4dd11d1f",
   "metadata": {
    "execution": {
     "iopub.execute_input": "2024-08-14T00:31:32.278866Z",
     "iopub.status.busy": "2024-08-14T00:31:32.278750Z",
     "iopub.status.idle": "2024-08-14T00:31:32.285087Z",
     "shell.execute_reply": "2024-08-14T00:31:32.284842Z",
     "shell.execute_reply.started": "2024-08-14T00:31:32.278854Z"
    }
   },
   "outputs": [
    {
     "data": {
      "text/plain": [
       "True"
      ]
     },
     "execution_count": 133,
     "metadata": {},
     "output_type": "execute_result"
    }
   ],
   "source": [
    "await client.auth(\"derek\")"
   ]
  },
  {
   "cell_type": "code",
   "execution_count": 134,
   "id": "dba68166-63be-4169-84b8-a90d6c3499c4",
   "metadata": {
    "execution": {
     "iopub.execute_input": "2024-08-14T00:31:32.285761Z",
     "iopub.status.busy": "2024-08-14T00:31:32.285569Z",
     "iopub.status.idle": "2024-08-14T00:31:32.291406Z",
     "shell.execute_reply": "2024-08-14T00:31:32.291184Z",
     "shell.execute_reply.started": "2024-08-14T00:31:32.285751Z"
    }
   },
   "outputs": [
    {
     "data": {
      "text/plain": [
       "b'derek'"
      ]
     },
     "execution_count": 134,
     "metadata": {},
     "output_type": "execute_result"
    }
   ],
   "source": [
    "await client.get(\"name\")"
   ]
  },
  {
   "cell_type": "code",
   "execution_count": null,
   "id": "7701676b-06db-4758-9dc1-1bf2910f69e3",
   "metadata": {},
   "outputs": [],
   "source": []
  },
  {
   "cell_type": "code",
   "execution_count": null,
   "id": "0c39477a-42d6-41b8-936c-b56249e989cd",
   "metadata": {},
   "outputs": [],
   "source": []
  },
  {
   "cell_type": "code",
   "execution_count": null,
   "id": "f4d0778d-2f80-4785-b72c-35a22823cfc0",
   "metadata": {},
   "outputs": [],
   "source": []
  },
  {
   "cell_type": "code",
   "execution_count": null,
   "id": "20753656-a0bc-4e1e-9fc6-859ec839b2f7",
   "metadata": {},
   "outputs": [],
   "source": []
  },
  {
   "cell_type": "code",
   "execution_count": null,
   "id": "9b4f0d89-dad4-4fc3-9d7b-3de4c09ebc15",
   "metadata": {},
   "outputs": [],
   "source": []
  },
  {
   "cell_type": "markdown",
   "id": "21e8a538-35db-407f-8ef1-c6da0d7efa22",
   "metadata": {},
   "source": [
    "# geospatial"
   ]
  },
  {
   "cell_type": "code",
   "execution_count": 135,
   "id": "4e8a4ce1-ba8b-46ff-ba09-b825ce7e3e9e",
   "metadata": {
    "execution": {
     "iopub.execute_input": "2024-08-14T00:31:32.291994Z",
     "iopub.status.busy": "2024-08-14T00:31:32.291867Z",
     "iopub.status.idle": "2024-08-14T00:31:32.296816Z",
     "shell.execute_reply": "2024-08-14T00:31:32.296572Z",
     "shell.execute_reply.started": "2024-08-14T00:31:32.291985Z"
    }
   },
   "outputs": [],
   "source": [
    "# await client.flushall()"
   ]
  },
  {
   "cell_type": "code",
   "execution_count": 136,
   "id": "a5d542ef-2c6c-4514-bf25-2684bd56e25d",
   "metadata": {
    "execution": {
     "iopub.execute_input": "2024-08-14T00:31:32.297421Z",
     "iopub.status.busy": "2024-08-14T00:31:32.297278Z",
     "iopub.status.idle": "2024-08-14T00:31:32.304634Z",
     "shell.execute_reply": "2024-08-14T00:31:32.304370Z",
     "shell.execute_reply.started": "2024-08-14T00:31:32.297409Z"
    }
   },
   "outputs": [],
   "source": [
    "await client.aclose()"
   ]
  },
  {
   "cell_type": "code",
   "execution_count": 137,
   "id": "20395bd1-754a-4b3a-b909-b319591e1961",
   "metadata": {
    "execution": {
     "iopub.execute_input": "2024-08-14T00:31:32.305251Z",
     "iopub.status.busy": "2024-08-14T00:31:32.305116Z",
     "iopub.status.idle": "2024-08-14T00:31:32.313222Z",
     "shell.execute_reply": "2024-08-14T00:31:32.312979Z",
     "shell.execute_reply.started": "2024-08-14T00:31:32.305235Z"
    }
   },
   "outputs": [
    {
     "data": {
      "text/plain": [
       "b'derek'"
      ]
     },
     "execution_count": 137,
     "metadata": {},
     "output_type": "execute_result"
    }
   ],
   "source": [
    "await client.get(\"name\")"
   ]
  },
  {
   "cell_type": "code",
   "execution_count": 141,
   "id": "c65388d1-f3f8-4238-aedb-cd98c7c0cf07",
   "metadata": {
    "execution": {
     "iopub.execute_input": "2024-08-14T00:32:23.620731Z",
     "iopub.status.busy": "2024-08-14T00:32:23.620006Z",
     "iopub.status.idle": "2024-08-14T00:32:23.639112Z",
     "shell.execute_reply": "2024-08-14T00:32:23.638653Z",
     "shell.execute_reply.started": "2024-08-14T00:32:23.620682Z"
    }
   },
   "outputs": [
    {
     "data": {
      "text/plain": [
       "<Signature (*, host: str = 'localhost', port: int = 6379, db: Union[str, int] = 0, password: Optional[str] = None, socket_timeout: Optional[float] = None, socket_connect_timeout: Optional[float] = None, socket_keepalive: Optional[bool] = None, socket_keepalive_options: Optional[Mapping[int, Union[int, bytes]]] = None, connection_pool: Optional[redis.asyncio.connection.ConnectionPool] = None, unix_socket_path: Optional[str] = None, encoding: str = 'utf-8', encoding_errors: str = 'strict', decode_responses: bool = False, retry_on_timeout: bool = False, retry_on_error: Optional[list] = None, ssl: bool = False, ssl_keyfile: Optional[str] = None, ssl_certfile: Optional[str] = None, ssl_cert_reqs: str = 'required', ssl_ca_certs: Optional[str] = None, ssl_ca_data: Optional[str] = None, ssl_check_hostname: bool = False, ssl_min_version: Optional[ssl.TLSVersion] = None, ssl_ciphers: Optional[str] = None, max_connections: Optional[int] = None, single_connection_client: bool = False, health_check_interval: int = 0, client_name: Optional[str] = None, lib_name: Optional[str] = 'redis-py', lib_version: Optional[str] = '5.0.8', username: Optional[str] = None, retry: Optional[redis.asyncio.retry.Retry] = None, auto_close_connection_pool: Optional[bool] = None, redis_connect_func=None, credential_provider: Optional[redis.credentials.CredentialProvider] = None, protocol: Optional[int] = 2)>"
      ]
     },
     "execution_count": 141,
     "metadata": {},
     "output_type": "execute_result"
    }
   ],
   "source": [
    "from redis.asyncio import Redis\n",
    "\n",
    "signature(Redis)\n",
    "Redis"
   ]
  },
  {
   "cell_type": "code",
   "execution_count": 145,
   "id": "2d775ea8-fb5a-4660-a321-4fcff6cd8fa7",
   "metadata": {
    "execution": {
     "iopub.execute_input": "2024-08-14T00:33:05.212457Z",
     "iopub.status.busy": "2024-08-14T00:33:05.211615Z",
     "iopub.status.idle": "2024-08-14T00:33:05.233983Z",
     "shell.execute_reply": "2024-08-14T00:33:05.233552Z",
     "shell.execute_reply.started": "2024-08-14T00:33:05.212388Z"
    }
   },
   "outputs": [
    {
     "data": {
      "text/plain": [
       "b'derek'"
      ]
     },
     "execution_count": 145,
     "metadata": {},
     "output_type": "execute_result"
    }
   ],
   "source": [
    "from redis import Redis\n",
    "\n",
    "client = Redis(password=\"derek\")\n",
    "client.get(\"name\")"
   ]
  },
  {
   "cell_type": "code",
   "execution_count": null,
   "id": "79a83e66-4e60-4905-9ed6-bd48a63f6e76",
   "metadata": {},
   "outputs": [],
   "source": []
  },
  {
   "cell_type": "code",
   "execution_count": null,
   "id": "0f5affdd-0e2d-402e-a42f-174dfb9bb9ec",
   "metadata": {},
   "outputs": [],
   "source": []
  },
  {
   "cell_type": "code",
   "execution_count": null,
   "id": "4ce5ab57-b286-4752-a9e0-d4b5f41c26f9",
   "metadata": {},
   "outputs": [],
   "source": []
  },
  {
   "cell_type": "code",
   "execution_count": null,
   "id": "d7446db0-95bc-45e9-856d-580ba68602b4",
   "metadata": {},
   "outputs": [],
   "source": []
  }
 ],
 "metadata": {
  "kernelspec": {
   "display_name": "Python 3 (ipykernel)",
   "language": "python",
   "name": "python3"
  },
  "language_info": {
   "codemirror_mode": {
    "name": "ipython",
    "version": 3
   },
   "file_extension": ".py",
   "mimetype": "text/x-python",
   "name": "python",
   "nbconvert_exporter": "python",
   "pygments_lexer": "ipython3",
   "version": "3.12.2"
  }
 },
 "nbformat": 4,
 "nbformat_minor": 5
}
