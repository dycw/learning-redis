{
 "cells": [
  {
   "cell_type": "code",
   "execution_count": 1,
   "id": "4db283a7-edee-4f09-9d1c-f278318b257d",
   "metadata": {},
   "outputs": [
    {
     "data": {
      "text/html": [
       "<pre style=\"white-space:pre;overflow-x:auto;line-height:normal;font-family:Menlo,'DejaVu Sans Mono',consolas,'Courier New',monospace\">Ping successful: <span style=\"color: #00ff00; text-decoration-color: #00ff00; font-style: italic\">True</span>\n",
       "</pre>\n"
      ],
      "text/plain": [
       "Ping successful: \u001b[3;92mTrue\u001b[0m\n"
      ]
     },
     "metadata": {},
     "output_type": "display_data"
    }
   ],
   "source": [
    "import redis.asyncio as redis\n",
    "\n",
    "client = redis.Redis()\n",
    "print(f\"Ping successful: {await client.ping()}\")\n",
    "await client.aclose()"
   ]
  },
  {
   "cell_type": "markdown",
   "id": "9aecfc40-291b-44c4-9abd-a8c80585cabb",
   "metadata": {},
   "source": [
    "# strings"
   ]
  },
  {
   "cell_type": "code",
   "execution_count": 2,
   "id": "b7df3563-e832-4098-a66b-66a52cf16dde",
   "metadata": {},
   "outputs": [
    {
     "data": {
      "text/plain": [
       "True"
      ]
     },
     "execution_count": 2,
     "metadata": {},
     "output_type": "execute_result"
    }
   ],
   "source": [
    "await client.set(\"name\", \"derek\")"
   ]
  },
  {
   "cell_type": "code",
   "execution_count": 3,
   "id": "68e1662c-a917-4b60-9e30-1149ccadf83d",
   "metadata": {},
   "outputs": [
    {
     "data": {
      "text/plain": [
       "b'derek'"
      ]
     },
     "execution_count": 3,
     "metadata": {},
     "output_type": "execute_result"
    }
   ],
   "source": [
    "await client.get(\"name\")"
   ]
  },
  {
   "cell_type": "code",
   "execution_count": 4,
   "id": "542e082d-37fc-45de-b0d0-9a4f134ac222",
   "metadata": {},
   "outputs": [
    {
     "data": {
      "text/plain": [
       "True"
      ]
     },
     "execution_count": 4,
     "metadata": {},
     "output_type": "execute_result"
    }
   ],
   "source": [
    "await client.set(\"email\", \"d.wan@icloud.com\")"
   ]
  },
  {
   "cell_type": "code",
   "execution_count": 5,
   "id": "66993e9a-e34d-4e5e-b672-846ca134c80d",
   "metadata": {},
   "outputs": [
    {
     "data": {
      "text/plain": [
       "b'd.wan'"
      ]
     },
     "execution_count": 5,
     "metadata": {},
     "output_type": "execute_result"
    }
   ],
   "source": [
    "await client.getrange(\"email\", 0, 4)"
   ]
  },
  {
   "cell_type": "code",
   "execution_count": 6,
   "id": "c2f761f5-4a8f-4c8a-8ac0-761dcf0f6211",
   "metadata": {},
   "outputs": [
    {
     "data": {
      "text/plain": [
       "True"
      ]
     },
     "execution_count": 6,
     "metadata": {},
     "output_type": "execute_result"
    }
   ],
   "source": [
    "await client.mset({\"lang\": \"English\", \"technology\": \"Redis\"})"
   ]
  },
  {
   "cell_type": "code",
   "execution_count": 7,
   "id": "49dbfc19-b288-43f5-995a-83bc45f5e68f",
   "metadata": {},
   "outputs": [
    {
     "data": {
      "text/plain": [
       "7"
      ]
     },
     "execution_count": 7,
     "metadata": {},
     "output_type": "execute_result"
    }
   ],
   "source": [
    "await client.strlen(\"lang\")"
   ]
  },
  {
   "cell_type": "code",
   "execution_count": 8,
   "id": "8c5b5648-3d08-4a18-b444-fe0c02ed698c",
   "metadata": {},
   "outputs": [
    {
     "data": {
      "text/plain": [
       "0"
      ]
     },
     "execution_count": 8,
     "metadata": {},
     "output_type": "execute_result"
    }
   ],
   "source": [
    "await client.strlen(\"not a key\")"
   ]
  },
  {
   "cell_type": "code",
   "execution_count": 9,
   "id": "a467cda2-67e2-4079-9731-0ea4b7531c71",
   "metadata": {},
   "outputs": [
    {
     "data": {
      "text/plain": [
       "True"
      ]
     },
     "execution_count": 9,
     "metadata": {},
     "output_type": "execute_result"
    }
   ],
   "source": [
    "await client.set(\"count\", 1)"
   ]
  },
  {
   "cell_type": "code",
   "execution_count": 10,
   "id": "116ae6e8-dcaa-4398-81f6-43134eec7f01",
   "metadata": {},
   "outputs": [
    {
     "data": {
      "text/plain": [
       "b'1'"
      ]
     },
     "execution_count": 10,
     "metadata": {},
     "output_type": "execute_result"
    }
   ],
   "source": [
    "await client.get(\"count\")"
   ]
  },
  {
   "cell_type": "code",
   "execution_count": 11,
   "id": "de0d7817-6ee9-4d2b-8618-72ab903d8729",
   "metadata": {},
   "outputs": [
    {
     "data": {
      "text/plain": [
       "2"
      ]
     },
     "execution_count": 11,
     "metadata": {},
     "output_type": "execute_result"
    }
   ],
   "source": [
    "await client.incr(\"count\")"
   ]
  },
  {
   "cell_type": "code",
   "execution_count": 12,
   "id": "2e4da8ad-df1d-4b11-92bb-38a8318e2b41",
   "metadata": {},
   "outputs": [
    {
     "data": {
      "text/plain": [
       "b'2'"
      ]
     },
     "execution_count": 12,
     "metadata": {},
     "output_type": "execute_result"
    }
   ],
   "source": [
    "await client.get(\"count\")"
   ]
  },
  {
   "cell_type": "code",
   "execution_count": 13,
   "id": "83eb4541-13e9-4d12-9f3e-192f8a49b481",
   "metadata": {},
   "outputs": [
    {
     "data": {
      "text/plain": [
       "12"
      ]
     },
     "execution_count": 13,
     "metadata": {},
     "output_type": "execute_result"
    }
   ],
   "source": [
    "await client.incrby(\"count\", amount=10)"
   ]
  },
  {
   "cell_type": "code",
   "execution_count": 14,
   "id": "49590bca-4b28-4eee-9c25-c3383cad4c99",
   "metadata": {},
   "outputs": [
    {
     "data": {
      "text/plain": [
       "b'12'"
      ]
     },
     "execution_count": 14,
     "metadata": {},
     "output_type": "execute_result"
    }
   ],
   "source": [
    "await client.get(\"count\")"
   ]
  },
  {
   "cell_type": "code",
   "execution_count": 15,
   "id": "2622f777-4305-4766-907e-05c84f21b578",
   "metadata": {},
   "outputs": [
    {
     "data": {
      "text/plain": [
       "11"
      ]
     },
     "execution_count": 15,
     "metadata": {},
     "output_type": "execute_result"
    }
   ],
   "source": [
    "await client.decr(\"count\")"
   ]
  },
  {
   "cell_type": "code",
   "execution_count": 16,
   "id": "e28db14b-6c05-4181-9841-a98ba13c9f5c",
   "metadata": {},
   "outputs": [
    {
     "data": {
      "text/plain": [
       "6"
      ]
     },
     "execution_count": 16,
     "metadata": {},
     "output_type": "execute_result"
    }
   ],
   "source": [
    "await client.decrby(\"count\", amount=5)"
   ]
  },
  {
   "cell_type": "code",
   "execution_count": 17,
   "id": "a5afec7f-79bf-44f0-abaa-978dbe5512d9",
   "metadata": {},
   "outputs": [
    {
     "data": {
      "text/plain": [
       "5"
      ]
     },
     "execution_count": 17,
     "metadata": {},
     "output_type": "execute_result"
    }
   ],
   "source": [
    "await client.decr(\"count\")"
   ]
  },
  {
   "cell_type": "code",
   "execution_count": 18,
   "id": "d5791940-90e4-416f-a35b-70a77cb480eb",
   "metadata": {},
   "outputs": [
    {
     "data": {
      "text/plain": [
       "True"
      ]
     },
     "execution_count": 18,
     "metadata": {},
     "output_type": "execute_result"
    }
   ],
   "source": [
    "await client.set(\"pi\", 3.14)"
   ]
  },
  {
   "cell_type": "code",
   "execution_count": 19,
   "id": "bdd6d518-5cad-4073-9087-9f2eec576acf",
   "metadata": {},
   "outputs": [
    {
     "data": {
      "text/plain": [
       "b'3.14'"
      ]
     },
     "execution_count": 19,
     "metadata": {},
     "output_type": "execute_result"
    }
   ],
   "source": [
    "await client.get(\"pi\")"
   ]
  },
  {
   "cell_type": "code",
   "execution_count": 20,
   "id": "f219ac11-bcab-4a5c-96a3-3a89b32b715c",
   "metadata": {},
   "outputs": [
    {
     "data": {
      "text/plain": [
       "4.140000000000001"
      ]
     },
     "execution_count": 20,
     "metadata": {},
     "output_type": "execute_result"
    }
   ],
   "source": [
    "await client.incrbyfloat(\"pi\", amount=1.0)"
   ]
  },
  {
   "cell_type": "code",
   "execution_count": 21,
   "id": "c7959099-c080-4b95-aad1-1af61aa44ea8",
   "metadata": {},
   "outputs": [
    {
     "data": {
      "text/plain": [
       "True"
      ]
     },
     "execution_count": 21,
     "metadata": {},
     "output_type": "execute_result"
    }
   ],
   "source": [
    "await client.set(\"a\", 1)"
   ]
  },
  {
   "cell_type": "code",
   "execution_count": 22,
   "id": "cc492e3a-6ba7-43a2-9e3d-26dcd9cfc26f",
   "metadata": {},
   "outputs": [
    {
     "data": {
      "text/plain": [
       "True"
      ]
     },
     "execution_count": 22,
     "metadata": {},
     "output_type": "execute_result"
    }
   ],
   "source": [
    "await client.expire(\"a\", 10)"
   ]
  },
  {
   "cell_type": "code",
   "execution_count": 23,
   "id": "b9cd00b3-432a-461d-8902-39b4b969ddee",
   "metadata": {},
   "outputs": [
    {
     "data": {
      "text/plain": [
       "10"
      ]
     },
     "execution_count": 23,
     "metadata": {},
     "output_type": "execute_result"
    }
   ],
   "source": [
    "await client.ttl(\"a\")"
   ]
  },
  {
   "cell_type": "code",
   "execution_count": 24,
   "id": "8cd158aa-83ca-4dba-aab5-eb800fa97aeb",
   "metadata": {},
   "outputs": [
    {
     "data": {
      "text/plain": [
       "b'1'"
      ]
     },
     "execution_count": 24,
     "metadata": {},
     "output_type": "execute_result"
    }
   ],
   "source": [
    "await client.get(\"a\")"
   ]
  },
  {
   "cell_type": "code",
   "execution_count": 25,
   "id": "aa8eb5f6-2945-422b-bb71-f366ef74f432",
   "metadata": {},
   "outputs": [
    {
     "data": {
      "text/plain": [
       "True"
      ]
     },
     "execution_count": 25,
     "metadata": {},
     "output_type": "execute_result"
    }
   ],
   "source": [
    "await client.setex(\"b\", 10, \"anyvalue\")"
   ]
  },
  {
   "cell_type": "code",
   "execution_count": 26,
   "id": "56bb1bb8-b08b-4538-8ce5-7592c629cfcd",
   "metadata": {},
   "outputs": [
    {
     "data": {
      "text/plain": [
       "b'anyvalue'"
      ]
     },
     "execution_count": 26,
     "metadata": {},
     "output_type": "execute_result"
    }
   ],
   "source": [
    "await client.get(\"b\")"
   ]
  },
  {
   "cell_type": "code",
   "execution_count": null,
   "id": "cd72363b-33ee-4745-8f06-035df5e76d59",
   "metadata": {},
   "outputs": [],
   "source": []
  },
  {
   "cell_type": "code",
   "execution_count": null,
   "id": "a16ee485-3bd0-49da-9a24-7f995123be4a",
   "metadata": {},
   "outputs": [],
   "source": []
  },
  {
   "cell_type": "code",
   "execution_count": null,
   "id": "d4c91508-f406-4693-9e6a-9fff7513c56b",
   "metadata": {},
   "outputs": [],
   "source": []
  },
  {
   "cell_type": "code",
   "execution_count": null,
   "id": "9353347c-4784-4cd0-b521-ea6db65d774d",
   "metadata": {},
   "outputs": [],
   "source": []
  },
  {
   "cell_type": "code",
   "execution_count": null,
   "id": "a1d9a840-db51-4917-8a27-8c67a27e6a67",
   "metadata": {},
   "outputs": [],
   "source": []
  },
  {
   "cell_type": "code",
   "execution_count": null,
   "id": "486a8dc3-045e-4935-b1b7-fa6dc47c2328",
   "metadata": {},
   "outputs": [],
   "source": []
  },
  {
   "cell_type": "code",
   "execution_count": null,
   "id": "6bd598c8-a16b-463a-9252-3e151e8829bc",
   "metadata": {},
   "outputs": [],
   "source": []
  },
  {
   "cell_type": "code",
   "execution_count": null,
   "id": "dc18cf7b-e3cc-4713-94d7-247997acf05a",
   "metadata": {},
   "outputs": [],
   "source": []
  },
  {
   "cell_type": "code",
   "execution_count": null,
   "id": "d9462bb7-a79e-45ab-83cf-82b3fe59b092",
   "metadata": {},
   "outputs": [],
   "source": []
  },
  {
   "cell_type": "code",
   "execution_count": null,
   "id": "9ae5def0-2ba8-46cc-9786-2f25c536bae9",
   "metadata": {},
   "outputs": [],
   "source": []
  },
  {
   "cell_type": "code",
   "execution_count": null,
   "id": "6f633d44-b1f0-4a7c-8cd6-1ed21f254a56",
   "metadata": {},
   "outputs": [],
   "source": []
  },
  {
   "cell_type": "code",
   "execution_count": null,
   "id": "7bea0de5-1bbd-49ee-aa7d-9134e5f780fa",
   "metadata": {},
   "outputs": [],
   "source": []
  },
  {
   "cell_type": "code",
   "execution_count": null,
   "id": "1a1eaf8b-8ac5-4bbe-b423-4b8458fdea2e",
   "metadata": {},
   "outputs": [],
   "source": []
  },
  {
   "cell_type": "code",
   "execution_count": null,
   "id": "b6959b33-f978-4cea-b444-0bd57458e9c0",
   "metadata": {},
   "outputs": [],
   "source": []
  },
  {
   "cell_type": "code",
   "execution_count": null,
   "id": "f4b16ff2-726b-4cdc-8b11-2a5fcd60ef10",
   "metadata": {},
   "outputs": [],
   "source": []
  },
  {
   "cell_type": "code",
   "execution_count": null,
   "id": "ac60caeb-02fe-4405-bd18-c60126bd8162",
   "metadata": {},
   "outputs": [],
   "source": []
  }
 ],
 "metadata": {
  "kernelspec": {
   "display_name": "Python 3 (ipykernel)",
   "language": "python",
   "name": "python3"
  },
  "language_info": {
   "codemirror_mode": {
    "name": "ipython",
    "version": 3
   },
   "file_extension": ".py",
   "mimetype": "text/x-python",
   "name": "python",
   "nbconvert_exporter": "python",
   "pygments_lexer": "ipython3",
   "version": "3.12.2"
  }
 },
 "nbformat": 4,
 "nbformat_minor": 5
}
